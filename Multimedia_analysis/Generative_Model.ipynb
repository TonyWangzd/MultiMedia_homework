{
 "cells": [
  {
   "cell_type": "code",
   "execution_count": 1,
   "metadata": {},
   "outputs": [],
   "source": [
    "import os\n",
    "import numpy as np\n",
    "import cv2\n",
    "import matplotlib.pyplot as plt\n",
    "\n",
    "path1 = './face/'\n",
    "path2 = './non-face/'\n",
    "\n",
    "face_list = os.listdir(path1)\n",
    "nonface_list = os.listdir(path2)\n",
    "\n",
    "def readimg(file_path):\n",
    "    img = cv2.imread(file_path, 0)\n",
    "    height, width = img.shape\n",
    "    vector_size = height*width\n",
    "    img_vector = img.reshape(1, vector_size)\n",
    "    return img_vector\n",
    "\n",
    "\n",
    "face_cube = readimg(path1+face_list[0])\n",
    "\n",
    "for line in face_list:\n",
    "    tmp_vector = readimg(path1+line)\n",
    "    face_cube = np.append(face_cube, tmp_vector, axis = 0)\n",
    "    \n",
    "nonface_cube = readimg(path2+nonface_list[0])\n",
    "\n",
    "for line in nonface_list:\n",
    "    tmp_vector = readimg(path2+line)\n",
    "    nonface_cube = np.append(nonface_cube, tmp_vector, axis = 0)\n",
    "    \n",
    "def face_show(index):\n",
    "    img = face_cube[index,:].reshape(32,32)\n",
    "    plt.imshow(img,cmap = 'gray')\n",
    "\n",
    "def nonface_show(index):\n",
    "    img = nonface_cube[index,:].reshape(32,32)\n",
    "    plt.imshow(img,cmap = 'gray')"
   ]
  },
  {
   "cell_type": "code",
   "execution_count": 2,
   "metadata": {},
   "outputs": [
    {
     "data": {
      "image/png": "[encoded data removed]",
      "text/plain": [
       "<Figure size 432x288 with 1 Axes>"
      ]
     },
     "metadata": {
      "needs_background": "light"
     },
     "output_type": "display_data"
    }
   ],
   "source": [
    "face_show(3000)"
   ]
  },
  {
   "cell_type": "code",
   "execution_count": 3,
   "metadata": {},
   "outputs": [
    {
     "data": {
      "image/png": "[encoded data removed]",
      "text/plain": [
       "<Figure size 432x288 with 1 Axes>"
      ]
     },
     "metadata": {
      "needs_background": "light"
     },
     "output_type": "display_data"
    }
   ],
   "source": [
    "nonface_show(200)"
   ]
  },
  {
   "cell_type": "code",
   "execution_count": 4,
   "metadata": {},
   "outputs": [],
   "source": [
    "img_set = np.append(face_cube, nonface_cube, axis = 0)"
   ]
  },
  {
   "cell_type": "code",
   "execution_count": 5,
   "metadata": {},
   "outputs": [
    {
     "data": {
      "text/plain": [
       "(11994, 1024)"
      ]
     },
     "execution_count": 5,
     "metadata": {},
     "output_type": "execute_result"
    }
   ],
   "source": [
    "img_set.shape"
   ]
  },
  {
   "cell_type": "code",
   "execution_count": 14,
   "metadata": {},
   "outputs": [],
   "source": [
    "label = np.zeros(len(img_set))\n",
    "# 1 for face , 0 for nonface\n",
    "label[:len(face_cube)] = 1\n",
    "label[len(face_cube):len(nonface_cube)] = 0\n",
    "Normal_pairs = [(img_set[i], label[i]) for i in range(len(img_set))]\n",
    "\n",
    "import random\n",
    "random.shuffle(Normal_pairs)\n",
    "Training_set = Normal_pairs[:int(len(img_set)*0.5)]\n",
    "Test_set = Normal_pairs[int(len(img_set)*0.5)+1:int(len(img_set))]"
   ]
  },
  {
   "cell_type": "code",
   "execution_count": 7,
   "metadata": {},
   "outputs": [
    {
     "data": {
      "text/plain": [
       "5997"
      ]
     },
     "execution_count": 7,
     "metadata": {},
     "output_type": "execute_result"
    }
   ],
   "source": [
    "len(Training_set)"
   ]
  },
  {
   "cell_type": "code",
   "execution_count": 8,
   "metadata": {},
   "outputs": [
    {
     "data": {
      "text/plain": [
       "5996"
      ]
     },
     "execution_count": 8,
     "metadata": {},
     "output_type": "execute_result"
    }
   ],
   "source": [
    "len(Test_set)"
   ]
  },
  {
   "cell_type": "code",
   "execution_count": 9,
   "metadata": {},
   "outputs": [],
   "source": [
    "Training_label = [Training_set[i][1] for i in range(len(Training_set))]\n",
    "Training_data = [Training_set[i][0] for i in range(len(Training_set))]\n",
    "\n",
    "Training_data = np.array(Training_data)\n",
    "Training_label = np.array(Training_label)\n",
    "\n",
    "Test_label = np.array([Test_set[i][1] for i in range(len(Test_set))])\n",
    "Test_data = np.array([Test_set[i][0] for i in range(len(Test_set))])"
   ]
  },
  {
   "cell_type": "code",
   "execution_count": 10,
   "metadata": {},
   "outputs": [
    {
     "data": {
      "text/plain": [
       "array([[  8,  16,  24, ..., 107, 108, 138],\n",
       "       [  8,  16,  24, ..., 107, 108, 138],\n",
       "       [ 63,   3,  16, ...,  53,  53, 100],\n",
       "       ...,\n",
       "       [158, 162, 167, ...,   0,  11,   7],\n",
       "       [ 12,   2,   0, ...,  82,  87,  82],\n",
       "       [ 93,  94,  94, ...,  94,  96,  99]], dtype=uint8)"
      ]
     },
     "execution_count": 10,
     "metadata": {},
     "output_type": "execute_result"
    }
   ],
   "source": [
    "Training_data"
   ]
  },
  {
   "cell_type": "code",
   "execution_count": 31,
   "metadata": {},
   "outputs": [],
   "source": [
    "img_set = img_set - img_set.mean(axis = 0)\n",
    "img_set[:5]\n",
    "cov_mat = np.cov(img_set.T, bias=True)\n",
    "eig_val, eig_vecs = np.linalg.eig(cov_mat)\n",
    "eig_pairs = [(np.abs(eig_val[i]), eig_vecs[:,i]) for i in range(len(eig_val))]\n",
    "eig_pairs.sort(key = lambda x: x[0], reverse=True)\n",
    "\n",
    "cond = (eig_val/eig_val.sum()).cumsum()\n",
    "cond = cond >=0.90\n",
    "index = cond.argmax()\n",
    "\n",
    "vector = eig_vecs[:,:index+1]\n",
    "PCA_result = np.dot(img_set, vector)\n",
    "PCA_pairs = [(PCA_result[i], label[i]) for i in range(len(PCA_result))]"
   ]
  },
  {
   "cell_type": "code",
   "execution_count": 33,
   "metadata": {},
   "outputs": [],
   "source": [
    "def Gaussian_Generative(X):\n",
    "    \n",
    "    Means = X.mean(axis = 0)\n",
    "    temp = np.zeros((1024, 1024))\n",
    "    cov = np.cov(X.T, bias=True)\n",
    "    return Means, cov"
   ]
  },
  {
   "cell_type": "code",
   "execution_count": 35,
   "metadata": {},
   "outputs": [],
   "source": [
    "PCA_face =  np.array([PCA_pairs[i][0] for i in range(len(face_cube))])\n",
    "PCA_nonface = np.array([PCA_pairs[i][0] for i in range(len(face_cube)+1, len(face_cube) + len(nonface_cube))])\n",
    "\n",
    "PCA_Face_Means, PCA_Face_cov = Gaussian_Generative(PCA_face)\n",
    "PCA_Nonface_Means, PCA_Nonface_cov = Gaussian_Generative(PCA_nonface)\n"
   ]
  },
  {
   "cell_type": "code",
   "execution_count": 39,
   "metadata": {},
   "outputs": [],
   "source": [
    "def prediction(Face_cov, Nonface_cov, x, theta):\n",
    "    \n",
    "    M = 0.5*(np.linalg.inv(Nonface_cov) - np.linalg.inv(Face_cov))\n",
    "    w = np.linalg.inv(Face_cov) - np.linalg.inv(Nonface_cov)\n",
    "    \n",
    "    x = x.reshape(len(x),1)\n",
    "    result = np.mat(x.T)*np.mat(M)*np.mat(x) + 2*np.matmul(w.T, x)\n",
    "    #print(result.mean)\n",
    "    if (np.sum(result)/len(x) > theta):\n",
    "        predict_label = 1\n",
    "    else:\n",
    "        predict_label = 0\n",
    "        \n",
    "    return predict_label"
   ]
  },
  {
   "cell_type": "code",
   "execution_count": 40,
   "metadata": {},
   "outputs": [],
   "source": [
    "random.shuffle(PCA_pairs)\n",
    "\n",
    "PCA_Test_set = PCA_pairs[int(len(img_set)*0.5)+1:int(len(img_set))]\n",
    "\n",
    "PCA_Test_label = np.array([PCA_Test_set[i][1] for i in range(len(PCA_Test_set))])\n",
    "PCA_Test_data = np.array([PCA_Test_set[i][0] for i in range(len(PCA_Test_set))])"
   ]
  },
  {
   "cell_type": "code",
   "execution_count": 42,
   "metadata": {},
   "outputs": [
    {
     "data": {
      "text/plain": [
       "1"
      ]
     },
     "execution_count": 42,
     "metadata": {},
     "output_type": "execute_result"
    }
   ],
   "source": [
    "# test\n",
    "prediction(PCA_Face_cov, PCA_Nonface_cov, PCA_Test_data[400], 0)"
   ]
  },
  {
   "cell_type": "code",
   "execution_count": 49,
   "metadata": {},
   "outputs": [],
   "source": [
    "def compute_accuracy(Face_cov, Nonface_cov, x, y, theta):\n",
    "    \n",
    "    count = 0\n",
    "    size = len(x)\n",
    "    TP = 0\n",
    "    TN = 0\n",
    "    FN = 0\n",
    "    FP = 0\n",
    "    \n",
    "    for i in range(size):\n",
    "        predict = prediction(Face_cov, Nonface_cov, x[i], 0)\n",
    "        if(predict == y[i]):\n",
    "            count = count + 1\n",
    "            if (y[i] == 1):\n",
    "                TP += 1\n",
    "            else:\n",
    "                TN += 1\n",
    "\n",
    "        else:\n",
    "            if(y[i] == 1):\n",
    "                FN += 1\n",
    "            else:\n",
    "                FP += 1\n",
    "\n",
    "    accu = (count+0.0)/size\n",
    "    \n",
    "    return TP, TN, FN, FP, accu"
   ]
  },
  {
   "cell_type": "code",
   "execution_count": 50,
   "metadata": {},
   "outputs": [],
   "source": [
    "TP, TN, FN, FP, accu = compute_accuracy(PCA_Face_cov, PCA_Nonface_cov, PCA_Test_data, PCA_Test_label, 0)"
   ]
  },
  {
   "cell_type": "code",
   "execution_count": 51,
   "metadata": {},
   "outputs": [
    {
     "name": "stdout",
     "output_type": "stream",
     "text": [
      "--------- P------N-------- \n",
      "----T---- 2719 ---- 2909 ------------\n",
      "----F---- 51 ---- 317 ------------\n"
     ]
    }
   ],
   "source": [
    "print('--------- P------N-------- ')\n",
    "print('----T----', TP,'----', TN, '------------')\n",
    "print('----F----', FP,'----', FN, '------------')"
   ]
  },
  {
   "cell_type": "code",
   "execution_count": 52,
   "metadata": {},
   "outputs": [
    {
     "data": {
      "text/plain": [
       "0.9386257505003336"
      ]
     },
     "execution_count": 52,
     "metadata": {},
     "output_type": "execute_result"
    }
   ],
   "source": [
    "accu"
   ]
  },
  {
   "cell_type": "code",
   "execution_count": 54,
   "metadata": {},
   "outputs": [],
   "source": [
    "Face_set = img_set[:len(face_cube)]\n",
    "Nonface_set = img_set[(len(face_cube))+1:]"
   ]
  },
  {
   "cell_type": "code",
   "execution_count": 55,
   "metadata": {},
   "outputs": [],
   "source": [
    "Face_Means, Face_cov = Gaussian_Generative(Face_set)\n",
    "Nonface_Means, Nonface_cov = Gaussian_Generative(Nonface_set)"
   ]
  },
  {
   "cell_type": "code",
   "execution_count": 56,
   "metadata": {},
   "outputs": [
    {
     "data": {
      "text/plain": [
       "(1024,)"
      ]
     },
     "execution_count": 56,
     "metadata": {},
     "output_type": "execute_result"
    }
   ],
   "source": [
    "Face_set[300].shape"
   ]
  },
  {
   "cell_type": "code",
   "execution_count": 57,
   "metadata": {},
   "outputs": [],
   "source": [
    "M = 0.5*(np.linalg.inv(Nonface_cov) - np.linalg.inv(Face_cov))\n",
    "w = np.linalg.inv(Face_cov) - np.linalg.inv(Nonface_cov)"
   ]
  },
  {
   "cell_type": "code",
   "execution_count": 58,
   "metadata": {},
   "outputs": [],
   "source": [
    "def predict(x, theta):\n",
    "    x = x.reshape(1024,1)\n",
    "    result = np.mat(x.T)*np.mat(M)*np.mat(x) + 2*np.matmul(w.T, x)\n",
    "    #print(result.mean)\n",
    "    if (np.sum(result)/len(x) > theta):\n",
    "        predict_label = 1\n",
    "    else:\n",
    "        predict_label = 0\n",
    "    return predict_label"
   ]
  },
  {
   "cell_type": "code",
   "execution_count": 59,
   "metadata": {},
   "outputs": [
    {
     "data": {
      "text/plain": [
       "0"
      ]
     },
     "execution_count": 59,
     "metadata": {},
     "output_type": "execute_result"
    }
   ],
   "source": [
    "# test\n",
    "predict(Nonface_set[2], 0)"
   ]
  },
  {
   "cell_type": "code",
   "execution_count": 60,
   "metadata": {},
   "outputs": [],
   "source": [
    "import random\n",
    "random.shuffle(Normal_pairs)\n",
    "Test_set = Normal_pairs[int(len(img_set)*0.5)+1:int(len(img_set))]\n",
    "\n",
    "Test_label = np.array([Test_set[i][1] for i in range(len(Test_set))])\n",
    "Test_data = np.array([Test_set[i][0] for i in range(len(Test_set))])"
   ]
  },
  {
   "cell_type": "code",
   "execution_count": 61,
   "metadata": {},
   "outputs": [],
   "source": [
    "def compute_accuracy(x, y, theta):\n",
    "    \n",
    "    count = 0\n",
    "    size = len(x)\n",
    "    TP = 0\n",
    "    TN = 0\n",
    "    FN = 0\n",
    "    FP = 0\n",
    "    \n",
    "    for i in range(size):\n",
    "        prediction = predict(x[i], theta)\n",
    "        if(prediction == y[i]):\n",
    "            count = count + 1\n",
    "            if (y[i] == 1):\n",
    "                TP += 1\n",
    "            else:\n",
    "                TN += 1\n",
    "\n",
    "        else:\n",
    "            if(y[i] == 1):\n",
    "                FN += 1\n",
    "            else:\n",
    "                FP += 1\n",
    "\n",
    "    accu = (count+0.0)/size\n",
    "    \n",
    "    return TP, TN, FN, FP, accu"
   ]
  },
  {
   "cell_type": "code",
   "execution_count": 62,
   "metadata": {},
   "outputs": [],
   "source": [
    "TP, TN, FN, FP, accu = compute_accuracy(Test_data, Test_label, 0)"
   ]
  },
  {
   "cell_type": "code",
   "execution_count": 63,
   "metadata": {},
   "outputs": [
    {
     "name": "stdout",
     "output_type": "stream",
     "text": [
      "--------- P------N-------- \n",
      "----T---- 2953 ---- 2855 ------------\n",
      "----F---- 187 ---- 1 ------------\n"
     ]
    }
   ],
   "source": [
    "print('--------- P------N-------- ')\n",
    "print('----T----', TP,'----', TN, '------------')\n",
    "print('----F----', FP,'----', FN, '------------')"
   ]
  },
  {
   "cell_type": "code",
   "execution_count": 64,
   "metadata": {},
   "outputs": [
    {
     "data": {
      "text/plain": [
       "0.9686457638425617"
      ]
     },
     "execution_count": 64,
     "metadata": {},
     "output_type": "execute_result"
    }
   ],
   "source": [
    "accu"
   ]
  },
  {
   "cell_type": "code",
   "execution_count": null,
   "metadata": {},
   "outputs": [],
   "source": []
  }
 ],
 "metadata": {
  "kernelspec": {
   "display_name": "Python 3",
   "language": "python",
   "name": "python3"
  },
  "language_info": {
   "codemirror_mode": {
    "name": "ipython",
    "version": 3
   },
   "file_extension": ".py",
   "mimetype": "text/x-python",
   "name": "python",
   "nbconvert_exporter": "python",
   "pygments_lexer": "ipython3",
   "version": "3.7.7"
  }
 },
 "nbformat": 4,
 "nbformat_minor": 4
}

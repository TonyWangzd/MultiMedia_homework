{
 "cells": [
  {
   "cell_type": "code",
   "execution_count": null,
   "metadata": {},
   "outputs": [],
   "source": [
    "import numpy as np\n",
    "import matplotlib.pyplot as plt\n",
    "import os\n",
    "import cv2"
   ]
  },
  {
   "cell_type": "code",
   "execution_count": null,
   "metadata": {},
   "outputs": [],
   "source": [
    "def linear_detector_hough(img):\n",
    "    imgsize = img.shape\n",
    "    ThetaDim = 90\n",
    "    DistStep = 1\n",
    "    MaxDist = np.sqrt(imgsize[0]**2 + imgsize[1]**2)\n",
    "    \n",
    "    DistDim = int(np.ceil(MaxDist/DistStep))\n",
    "    \n",
    "    if halfDistWindowSize == None:\n",
    "        halfDistWindowSize = int(DistDim/50)\n",
    "    accumulator = np.zeros((ThetaDim,DistDim))\n",
    "    \n",
    "    sinTheta = [np.sin(t*np.pi/ThetaDim) for t in range(ThetaDim)]\n",
    "    cosTheta = [np.cos(t*np.pi/ThetaDim) for t in range(ThetaDim)]\n",
    "    \n",
    "    for i in range(imgsize[0]):\n",
    "        for j in range(imgsize[1]):\n",
    "            if not edge[i,j] == 0:\n",
    "                for k in range(ThetaDim):\n",
    "                    accumulator[k][int(round((i*cosTheta[k]+j*sinTheta[k])*DistDim/MaxDist))] += 1\n",
    "\n",
    "    M = accumulator.max()\n",
    "\n",
    "    if threshold == None:\n",
    "        threshold = int(M*2.3875/10)\n",
    "    result = np.array(np.where(accumulator > threshold)) # 阈值化\n",
    "    temp = [[],[]]\n",
    "    for i in range(result.shape[1]):\n",
    "        eight_neiborhood = accumulator[max(0, result[0,i] - halfThetaWindowSize + 1):min(result[0,i] + halfThetaWindowSize, accumulator.shape[0]), max(0, result[1,i] - halfDistWindowSize + 1):min(result[1,i] + halfDistWindowSize, accumulator.shape[1])]\n",
    "        if (accumulator[result[0,i],result[1,i]] >= eight_neiborhood).all():\n",
    "            temp[0].append(result[0,i])\n",
    "            temp[1].append(result[1,i])\n",
    "\n",
    "    result = np.array(temp)    # 非极大值抑制\n",
    "\n",
    "    result = result.astype(np.float64)\n",
    "    result[0] = result[0]*np.pi/ThetaDim\n",
    "    result[1] = result[1]*MaxDist/DistDim\n",
    "\n",
    "    return result\n",
    "    "
   ]
  },
  {
   "cell_type": "code",
   "execution_count": null,
   "metadata": {},
   "outputs": [],
   "source": []
  }
 ],
 "metadata": {
  "kernelspec": {
   "display_name": "Python 3",
   "language": "python",
   "name": "python3"
  },
  "language_info": {
   "codemirror_mode": {
    "name": "ipython",
    "version": 3
   },
   "file_extension": ".py",
   "mimetype": "text/x-python",
   "name": "python",
   "nbconvert_exporter": "python",
   "pygments_lexer": "ipython3",
   "version": "3.7.7"
  }
 },
 "nbformat": 4,
 "nbformat_minor": 4
}

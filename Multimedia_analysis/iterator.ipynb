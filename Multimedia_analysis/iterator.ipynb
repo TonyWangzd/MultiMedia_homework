{
 "cells": [
  {
   "cell_type": "code",
   "execution_count": 1,
   "metadata": {},
   "outputs": [
    {
     "data": {
      "text/plain": [
       "<BarContainer object of 256 artists>"
      ]
     },
     "execution_count": 1,
     "metadata": {},
     "output_type": "execute_result"
    },
    {
     "data": {
      "image/png": "[encoded data removed]",
      "text/plain": [
       "<Figure size 432x288 with 1 Axes>"
      ]
     },
     "metadata": {
      "needs_background": "light"
     },
     "output_type": "display_data"
    }
   ],
   "source": [
    "import cv2\n",
    "import numpy as np\n",
    "import matplotlib.pyplot as plt\n",
    "\n",
    "img = cv2.imread('IMG_shogi.jpg',0)\n",
    "img_info = img.shape\n",
    "\n",
    "height = img_info[0]\n",
    "width = img_info[1]\n",
    "\n",
    "count = np.zeros(256, np.float)\n",
    "count_ratio = np.zeros(256, np.float)\n",
    "\n",
    "for i in range(0, height):\n",
    "    for j in range(0, width):\n",
    "        pixel = img[i,j]\n",
    "        index = int(pixel)\n",
    "        count[index] = count[index]+1\n",
    "        \n",
    "for i in range(0, 256):\n",
    "    count_ratio[i] = count[i]/(height*width)\n",
    "    \n",
    "x = np.linspace(0, 255, 256)\n",
    "y = count_ratio\n",
    "plt.bar(x, y, 0.9, alpha=1, color='b')\n"
   ]
  },
  {
   "cell_type": "code",
   "execution_count": 2,
   "metadata": {},
   "outputs": [],
   "source": [
    "def mean_fromi2j(array, i, j):\n",
    "    sum_pixel = 0\n",
    "    sum = 0\n",
    "    for n in range(i, j):\n",
    "        sum_pixel = sum_pixel + array[n] * n\n",
    "        sum = sum + array[n]\n",
    "    if (sum != 0):\n",
    "        mean = float(sum_pixel/sum)\n",
    "    else:\n",
    "        mean = 0\n",
    "    \n",
    "    return mean"
   ]
  },
  {
   "cell_type": "code",
   "execution_count": 3,
   "metadata": {},
   "outputs": [],
   "source": [
    "def sum_fromi2j(array, i, j):\n",
    "    sum = 0\n",
    "    for n in range(i,j):\n",
    "        sum = sum + array[n]\n",
    "        \n",
    "    return sum"
   ]
  },
  {
   "cell_type": "code",
   "execution_count": 4,
   "metadata": {},
   "outputs": [
    {
     "name": "stdout",
     "output_type": "stream",
     "text": [
      "the minist number is  0\n"
     ]
    }
   ],
   "source": [
    "for i in range(0, 256):\n",
    "    if count[i] != 0:\n",
    "        min = i\n",
    "        print('the minist number is ',min)\n",
    "        break"
   ]
  },
  {
   "cell_type": "code",
   "execution_count": 5,
   "metadata": {},
   "outputs": [
    {
     "name": "stdout",
     "output_type": "stream",
     "text": [
      "the max number is  255\n"
     ]
    }
   ],
   "source": [
    "for i in range(0,255):\n",
    "    if count[255-i] != 0:\n",
    "        max = 255-i\n",
    "        print('the max number is ', max)\n",
    "        break"
   ]
  },
  {
   "cell_type": "code",
   "execution_count": 8,
   "metadata": {},
   "outputs": [],
   "source": [
    "T = int((max + min) / 2)"
   ]
  },
  {
   "cell_type": "code",
   "execution_count": 11,
   "metadata": {},
   "outputs": [],
   "source": []
  },
  {
   "cell_type": "code",
   "execution_count": 10,
   "metadata": {},
   "outputs": [],
   "source": [
    "T_changed = True"
   ]
  },
  {
   "cell_type": "code",
   "execution_count": 13,
   "metadata": {},
   "outputs": [],
   "source": [
    "while(T_changed):\n",
    "    oldT = T\n",
    "    zo = mean_fromi2j(count, 0, T)\n",
    "    zb = mean_fromi2j(count, T, 255)\n",
    "    T = int((zo + zb)/2)\n",
    "    if oldT == T:\n",
    "        T_changed = False\n",
    "        \n",
    "    "
   ]
  },
  {
   "cell_type": "code",
   "execution_count": 14,
   "metadata": {},
   "outputs": [
    {
     "data": {
      "text/plain": [
       "151"
      ]
     },
     "execution_count": 14,
     "metadata": {},
     "output_type": "execute_result"
    }
   ],
   "source": []
  },
  {
   "cell_type": "code",
   "execution_count": null,
   "metadata": {},
   "outputs": [],
   "source": []
  }
 ],
 "metadata": {
  "kernelspec": {
   "display_name": "Python 3",
   "language": "python",
   "name": "python3"
  },
  "language_info": {
   "codemirror_mode": {
    "name": "ipython",
    "version": 3
   },
   "file_extension": ".py",
   "mimetype": "text/x-python",
   "name": "python",
   "nbconvert_exporter": "python",
   "pygments_lexer": "ipython3",
   "version": "3.7.7"
  }
 },
 "nbformat": 4,
 "nbformat_minor": 4
}

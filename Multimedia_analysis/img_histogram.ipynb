{
 "cells": [
  {
   "cell_type": "code",
   "execution_count": 1,
   "metadata": {},
   "outputs": [],
   "source": [
    "import cv2\n",
    "import numpy as np\n",
    "import matplotlib.pyplot as plt"
   ]
  },
  {
   "cell_type": "code",
   "execution_count": 2,
   "metadata": {},
   "outputs": [],
   "source": [
    "img = cv2.imread('IMG_marshall.jpeg',0)"
   ]
  },
  {
   "cell_type": "code",
   "execution_count": 3,
   "metadata": {},
   "outputs": [],
   "source": [
    "img_info = img.shape"
   ]
  },
  {
   "cell_type": "code",
   "execution_count": 4,
   "metadata": {},
   "outputs": [],
   "source": [
    "height = img_info[0]\n",
    "width = img_info[1]"
   ]
  },
  {
   "cell_type": "code",
   "execution_count": 5,
   "metadata": {},
   "outputs": [],
   "source": [
    "#gray = cv2.cvtColor(img,cv2.COLOR_BAYER_BG2GRAY) #CONVERT THE RGB INTO GRAY"
   ]
  },
  {
   "cell_type": "code",
   "execution_count": 6,
   "metadata": {},
   "outputs": [],
   "source": [
    "count = np.zeros(256,np.float)"
   ]
  },
  {
   "cell_type": "code",
   "execution_count": 7,
   "metadata": {},
   "outputs": [],
   "source": [
    "for i in range(0, height):\n",
    "    for j in range(0, width):\n",
    "        pixel = img[i,j]\n",
    "        index = int(pixel)\n",
    "        count[index] = count[index]+1"
   ]
  },
  {
   "cell_type": "code",
   "execution_count": 8,
   "metadata": {},
   "outputs": [],
   "source": [
    "for i in range(0, 255):\n",
    "    count[i] = count[i]/(height*width)"
   ]
  },
  {
   "cell_type": "code",
   "execution_count": 9,
   "metadata": {},
   "outputs": [],
   "source": [
    "x = np.linspace(0, 255, 256)"
   ]
  },
  {
   "cell_type": "code",
   "execution_count": 10,
   "metadata": {},
   "outputs": [],
   "source": [
    "y = count"
   ]
  },
  {
   "cell_type": "code",
   "execution_count": 11,
   "metadata": {},
   "outputs": [
    {
     "data": {
      "text/plain": [
       "<BarContainer object of 256 artists>"
      ]
     },
     "execution_count": 11,
     "metadata": {},
     "output_type": "execute_result"
    },
    {
     "data": {
      "image/png": "[encoded data removed]",
      "text/plain": [
       "<Figure size 432x288 with 1 Axes>"
      ]
     },
     "metadata": {
      "needs_background": "light"
     },
     "output_type": "display_data"
    }
   ],
   "source": [
    "plt.bar(x, y, 0.9, alpha=1, color='b')"
   ]
  },
  {
   "cell_type": "code",
   "execution_count": 12,
   "metadata": {},
   "outputs": [
    {
     "name": "stdout",
     "output_type": "stream",
     "text": [
      "the minist number is  59\n"
     ]
    }
   ],
   "source": [
    "for i in range(0, 255):\n",
    "    if count[i] != 0:\n",
    "        min = i\n",
    "        print('the minist number is ',min)\n",
    "        break"
   ]
  },
  {
   "cell_type": "code",
   "execution_count": 13,
   "metadata": {},
   "outputs": [
    {
     "name": "stdout",
     "output_type": "stream",
     "text": [
      "the max number is  197\n"
     ]
    }
   ],
   "source": [
    "for i in range(0,255):\n",
    "    if count[255-i] != 0:\n",
    "        max = 255-i\n",
    "        print('the max number is ', max)\n",
    "        break"
   ]
  },
  {
   "cell_type": "code",
   "execution_count": 14,
   "metadata": {},
   "outputs": [],
   "source": [
    "dst_img = np.zeros((height,width), np.uint8) #0-255\n",
    "for i in range(0, height):\n",
    "    for j in range(0, width):\n",
    "        dst_img[i,j] = ((img[i,j]-min)/(max-min))*255\n",
    "       "
   ]
  },
  {
   "cell_type": "code",
   "execution_count": 15,
   "metadata": {},
   "outputs": [
    {
     "data": {
      "text/plain": [
       "(1080, 1440)"
      ]
     },
     "execution_count": 15,
     "metadata": {},
     "output_type": "execute_result"
    }
   ],
   "source": [
    "dst_img.shape"
   ]
  },
  {
   "cell_type": "code",
   "execution_count": 17,
   "metadata": {},
   "outputs": [],
   "source": [
    "def histogram(img):\n",
    "    img_info = img.shape\n",
    "    height = img_info[0]\n",
    "    width = img_info[1]\n",
    "    count = np.zeros(256,np.float)\n",
    "    \n",
    "    for i in range(0, height):\n",
    "        for j in range(0, width):\n",
    "            pixel = img[i,j]\n",
    "            index = int(pixel)\n",
    "            count[index] = count[index]+1\n",
    "            \n",
    "    for i in range(0, 255):\n",
    "        count[i] = count[i]/(height*width)\n",
    "    \n",
    "    x = np.linspace(0, 255, 256)\n",
    "    y = count\n",
    "    plt.bar(x, y, 0.9, alpha=1, color='b')"
   ]
  },
  {
   "cell_type": "code",
   "execution_count": 18,
   "metadata": {},
   "outputs": [
    {
     "data": {
      "image/png": "[encoded data removed]",
      "text/plain": [
       "<Figure size 432x288 with 1 Axes>"
      ]
     },
     "metadata": {
      "needs_background": "light"
     },
     "output_type": "display_data"
    }
   ],
   "source": [
    "histogram(dst_img)"
   ]
  },
  {
   "cell_type": "code",
   "execution_count": 19,
   "metadata": {},
   "outputs": [
    {
     "data": {
      "image/png": "[encoded data removed]",
      "text/plain": [
       "<Figure size 432x288 with 1 Axes>"
      ]
     },
     "metadata": {
      "needs_background": "light"
     },
     "output_type": "display_data"
    }
   ],
   "source": [
    "histogram(img)"
   ]
  },
  {
   "cell_type": "code",
   "execution_count": 21,
   "metadata": {},
   "outputs": [],
   "source": [
    "sum1 = float(0)"
   ]
  },
  {
   "cell_type": "code",
   "execution_count": 36,
   "metadata": {},
   "outputs": [],
   "source": [
    "count2 = np.zeros(256,float)"
   ]
  },
  {
   "cell_type": "code",
   "execution_count": 37,
   "metadata": {},
   "outputs": [],
   "source": [
    "for i in range(0, height):\n",
    "    for j in range(0, width):\n",
    "        pixel = img[i,j]\n",
    "        index = int(pixel)\n",
    "        count2[index] = count2[index]+1"
   ]
  },
  {
   "cell_type": "code",
   "execution_count": 41,
   "metadata": {},
   "outputs": [],
   "source": [
    "for i in range(0, 255):\n",
    "    count2[i] = count2[i]/(height*width)"
   ]
  },
  {
   "cell_type": "code",
   "execution_count": 43,
   "metadata": {},
   "outputs": [
    {
     "name": "stdout",
     "output_type": "stream",
     "text": [
      "[0.00000000e+00 0.00000000e+00 0.00000000e+00 0.00000000e+00\n",
      " 0.00000000e+00 0.00000000e+00 0.00000000e+00 0.00000000e+00\n",
      " 0.00000000e+00 0.00000000e+00 0.00000000e+00 0.00000000e+00\n",
      " 0.00000000e+00 0.00000000e+00 0.00000000e+00 0.00000000e+00\n",
      " 0.00000000e+00 0.00000000e+00 0.00000000e+00 0.00000000e+00\n",
      " 0.00000000e+00 0.00000000e+00 0.00000000e+00 0.00000000e+00\n",
      " 0.00000000e+00 0.00000000e+00 0.00000000e+00 0.00000000e+00\n",
      " 0.00000000e+00 0.00000000e+00 0.00000000e+00 0.00000000e+00\n",
      " 0.00000000e+00 0.00000000e+00 0.00000000e+00 0.00000000e+00\n",
      " 0.00000000e+00 0.00000000e+00 0.00000000e+00 0.00000000e+00\n",
      " 0.00000000e+00 0.00000000e+00 0.00000000e+00 0.00000000e+00\n",
      " 0.00000000e+00 0.00000000e+00 0.00000000e+00 0.00000000e+00\n",
      " 0.00000000e+00 0.00000000e+00 0.00000000e+00 0.00000000e+00\n",
      " 0.00000000e+00 0.00000000e+00 0.00000000e+00 0.00000000e+00\n",
      " 0.00000000e+00 0.00000000e+00 0.00000000e+00 6.43004115e-07\n",
      " 6.43004115e-07 1.92901235e-06 2.57201646e-06 7.71604938e-06\n",
      " 2.05761317e-05 3.85802469e-05 7.65174897e-05 1.40817901e-04\n",
      " 3.07998971e-04 6.51363169e-04 1.40817901e-03 6.45383230e-03\n",
      " 1.77642747e-02 3.52829218e-02 5.62011317e-02 7.65567130e-02\n",
      " 9.57278807e-02 1.23056199e-01 1.38785365e-01 1.68964120e-01\n",
      " 2.01162551e-01 2.34109439e-01 2.70723380e-01 3.25401878e-01\n",
      " 3.78869599e-01 4.14738940e-01 4.45520833e-01 4.68238169e-01\n",
      " 4.93906893e-01 5.19325489e-01 5.41409465e-01 5.63321759e-01\n",
      " 5.86155478e-01 6.05581276e-01 6.22875514e-01 6.41050669e-01\n",
      " 6.50330504e-01 6.65382587e-01 6.76900720e-01 6.84890689e-01\n",
      " 6.91151620e-01 6.96445473e-01 7.01370242e-01 7.06017233e-01\n",
      " 7.10271991e-01 7.14043853e-01 7.18069059e-01 7.22255658e-01\n",
      " 7.26530350e-01 7.31332948e-01 7.37078189e-01 7.43825231e-01\n",
      " 7.51636445e-01 7.59810957e-01 7.67010031e-01 7.76131044e-01\n",
      " 7.84765303e-01 7.94005916e-01 8.02528935e-01 8.09892618e-01\n",
      " 8.16089249e-01 8.21917438e-01 8.27216435e-01 8.31842207e-01\n",
      " 8.36243570e-01 8.40244985e-01 8.44079861e-01 8.47409979e-01\n",
      " 8.50598637e-01 8.53381559e-01 8.56110468e-01 8.58863812e-01\n",
      " 8.61190201e-01 8.63853524e-01 8.66500772e-01 8.69006559e-01\n",
      " 8.71509131e-01 8.73955118e-01 8.76653164e-01 8.79490741e-01\n",
      " 8.83405350e-01 8.86107896e-01 8.91185057e-01 8.94110725e-01\n",
      " 8.96896862e-01 8.99447016e-01 9.01856996e-01 9.04517104e-01\n",
      " 9.07226080e-01 9.10235340e-01 9.12287809e-01 9.16550926e-01\n",
      " 9.21278292e-01 9.26132330e-01 9.30361368e-01 9.35229552e-01\n",
      " 9.40183256e-01 9.45048225e-01 9.52950746e-01 9.54493956e-01\n",
      " 9.57614455e-01 9.61912294e-01 9.64263760e-01 9.66902006e-01\n",
      " 9.69105581e-01 9.70692515e-01 9.72335391e-01 9.74168596e-01\n",
      " 9.74963992e-01 9.76704604e-01 9.78191872e-01 9.79903549e-01\n",
      " 9.81686600e-01 9.83480581e-01 9.85777392e-01 9.87405478e-01\n",
      " 9.89067001e-01 9.90019290e-01 9.91226209e-01 9.92113555e-01\n",
      " 9.92908308e-01 9.93722351e-01 9.94349923e-01 9.95043081e-01\n",
      " 9.95691229e-01 9.97450489e-01 9.98242670e-01 9.99315201e-01\n",
      " 9.99801955e-01 9.99962063e-01 9.99977495e-01 9.99986497e-01\n",
      " 9.99990355e-01 9.99998071e-01 9.99998071e-01 9.99999357e-01\n",
      " 9.99999357e-01 1.00000000e+00 1.00000000e+00 1.00000000e+00\n",
      " 1.00000000e+00 1.00000000e+00 1.00000000e+00 1.00000000e+00\n",
      " 1.00000000e+00 1.00000000e+00 1.00000000e+00 1.00000000e+00\n",
      " 1.00000000e+00 1.00000000e+00 1.00000000e+00 1.00000000e+00\n",
      " 1.00000000e+00 1.00000000e+00 1.00000000e+00 1.00000000e+00\n",
      " 1.00000000e+00 1.00000000e+00 1.00000000e+00 1.00000000e+00\n",
      " 1.00000000e+00 1.00000000e+00 1.00000000e+00 1.00000000e+00\n",
      " 1.00000000e+00 1.00000000e+00 1.00000000e+00 1.00000000e+00\n",
      " 1.00000000e+00 1.00000000e+00 1.00000000e+00 1.00000000e+00\n",
      " 1.00000000e+00 1.00000000e+00 1.00000000e+00 1.00000000e+00\n",
      " 1.00000000e+00 1.00000000e+00 1.00000000e+00 1.00000000e+00\n",
      " 1.00000000e+00 1.00000000e+00 1.00000000e+00 1.00000000e+00\n",
      " 1.00000000e+00 1.00000000e+00 1.00000000e+00 1.00000000e+00\n",
      " 1.00000000e+00 1.00000000e+00 1.00000000e+00 1.00000000e+00\n",
      " 1.00000000e+00 1.00000000e+00 1.00000000e+00 0.00000000e+00]\n"
     ]
    }
   ],
   "source": [
    "sum1 = float(0)\n",
    "for i in range(0, 255):\n",
    "    sum1 = count2[i]+sum1\n",
    "    count2[i] = sum1"
   ]
  },
  {
   "cell_type": "code",
   "execution_count": 44,
   "metadata": {},
   "outputs": [],
   "source": [
    "#calculate mapping\n",
    "mapping = np.zeros(256, np.uint16)\n",
    "for i in range(0, 256):\n",
    "    mapping[i] = count2[i]*255"
   ]
  },
  {
   "cell_type": "code",
   "execution_count": 46,
   "metadata": {},
   "outputs": [],
   "source": [
    "#mapping\n",
    "dst_img2 = np.zeros((height,width), np.uint8)"
   ]
  },
  {
   "cell_type": "code",
   "execution_count": 47,
   "metadata": {},
   "outputs": [],
   "source": [
    "for i in range(0, height):\n",
    "    for j in range(0, width):\n",
    "        dst_img2[i,j] = mapping[img[i,j]]"
   ]
  },
  {
   "cell_type": "code",
   "execution_count": 49,
   "metadata": {},
   "outputs": [
    {
     "data": {
      "image/png": "[encoded data removed]",
      "text/plain": [
       "<Figure size 432x288 with 1 Axes>"
      ]
     },
     "metadata": {
      "needs_background": "light"
     },
     "output_type": "display_data"
    }
   ],
   "source": [
    "histogram(dst_img2)"
   ]
  },
  {
   "cell_type": "code",
   "execution_count": 51,
   "metadata": {},
   "outputs": [
    {
     "data": {
      "text/plain": [
       "True"
      ]
     },
     "execution_count": 51,
     "metadata": {},
     "output_type": "execute_result"
    }
   ],
   "source": [
    "cv2.imwrite('IMG_MARSHALL1.jpeg', dst_img, [cv2.IMWRITE_JPEG_QUALITY,80])"
   ]
  },
  {
   "cell_type": "code",
   "execution_count": 53,
   "metadata": {},
   "outputs": [
    {
     "data": {
      "text/plain": [
       "True"
      ]
     },
     "execution_count": 53,
     "metadata": {},
     "output_type": "execute_result"
    }
   ],
   "source": [
    "cv2.imwrite('IMG_MARSHALL2.jpeg', dst_img2, [cv2.IMWRITE_JPEG_QUALITY,80])"
   ]
  },
  {
   "cell_type": "code",
   "execution_count": null,
   "metadata": {},
   "outputs": [],
   "source": []
  }
 ],
 "metadata": {
  "kernelspec": {
   "display_name": "Python 3",
   "language": "python",
   "name": "python3"
  },
  "language_info": {
   "codemirror_mode": {
    "name": "ipython",
    "version": 3
   },
   "file_extension": ".py",
   "mimetype": "text/x-python",
   "name": "python",
   "nbconvert_exporter": "python",
   "pygments_lexer": "ipython3",
   "version": "3.7.7"
  }
 },
 "nbformat": 4,
 "nbformat_minor": 4
}

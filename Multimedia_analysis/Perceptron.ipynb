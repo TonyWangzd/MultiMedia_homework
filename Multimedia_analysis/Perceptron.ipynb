{
 "cells": [
  {
   "cell_type": "code",
   "execution_count": 1,
   "metadata": {},
   "outputs": [],
   "source": [
    "import os\n",
    "import numpy as np\n",
    "import cv2\n",
    "\n",
    "path1 = './face/'\n",
    "path2 = './non-face/'\n",
    "\n",
    "face_list = os.listdir(path1)\n",
    "nonface_list = os.listdir(path2)\n",
    "\n",
    "def readimg(file_path):\n",
    "    img = cv2.imread(file_path, 0)\n",
    "    height, width = img.shape\n",
    "    vector_size = height*width\n",
    "    img_vector = img.reshape(1, vector_size)\n",
    "    return img_vector\n",
    "\n",
    "\n",
    "face_cube = readimg(path1+face_list[0])\n",
    "\n",
    "for line in face_list:\n",
    "    tmp_vector = readimg(path1+line)\n",
    "    face_cube = np.append(face_cube, tmp_vector, axis = 0)\n"
   ]
  },
  {
   "cell_type": "code",
   "execution_count": 2,
   "metadata": {},
   "outputs": [],
   "source": [
    "import matplotlib.pyplot as plt\n",
    "def face_show(index):\n",
    "    img = face_cube[index,:].reshape(32,32)\n",
    "    plt.imshow(img,cmap = 'gray')\n",
    "\n",
    "def nonface_show(index):\n",
    "    img = nonface_cube[index,:].reshape(32,32)\n",
    "    plt.imshow(img,cmap = 'gray')"
   ]
  },
  {
   "cell_type": "code",
   "execution_count": 3,
   "metadata": {},
   "outputs": [
    {
     "data": {
      "image/png": "[encoded data removed]",
      "text/plain": [
       "<Figure size 432x288 with 1 Axes>"
      ]
     },
     "metadata": {
      "needs_background": "light"
     },
     "output_type": "display_data"
    }
   ],
   "source": [
    "face_show(300)"
   ]
  },
  {
   "cell_type": "code",
   "execution_count": 4,
   "metadata": {},
   "outputs": [],
   "source": [
    "nonface_cube = readimg(path2+nonface_list[0])\n",
    "for line in nonface_list:\n",
    "    tmp_vector = readimg(path2+line)\n",
    "    nonface_cube = np.append(nonface_cube, tmp_vector, axis = 0)"
   ]
  },
  {
   "cell_type": "code",
   "execution_count": 5,
   "metadata": {},
   "outputs": [
    {
     "data": {
      "image/png": "[encoded data removed]",
      "text/plain": [
       "<Figure size 432x288 with 1 Axes>"
      ]
     },
     "metadata": {
      "needs_background": "light"
     },
     "output_type": "display_data"
    }
   ],
   "source": [
    "nonface_show(200)"
   ]
  },
  {
   "cell_type": "code",
   "execution_count": 6,
   "metadata": {},
   "outputs": [],
   "source": [
    "img_set = np.append(face_cube, nonface_cube, axis = 0)"
   ]
  },
  {
   "cell_type": "code",
   "execution_count": 7,
   "metadata": {},
   "outputs": [
    {
     "data": {
      "text/plain": [
       "(11994, 1024)"
      ]
     },
     "execution_count": 7,
     "metadata": {},
     "output_type": "execute_result"
    }
   ],
   "source": [
    "img_set.shape"
   ]
  },
  {
   "cell_type": "code",
   "execution_count": 8,
   "metadata": {},
   "outputs": [],
   "source": [
    "label = np.zeros(len(img_set))"
   ]
  },
  {
   "cell_type": "code",
   "execution_count": 9,
   "metadata": {},
   "outputs": [],
   "source": [
    "# 1 for face , 0 for nonface\n",
    "label[:len(face_cube)] = 1"
   ]
  },
  {
   "cell_type": "code",
   "execution_count": 10,
   "metadata": {},
   "outputs": [],
   "source": [
    "label[len(face_cube):len(nonface_cube)] = -1"
   ]
  },
  {
   "cell_type": "code",
   "execution_count": 36,
   "metadata": {},
   "outputs": [],
   "source": [
    "Normal_pairs = [(img_set[i], label[i]) for i in range(len(img_set))]"
   ]
  },
  {
   "cell_type": "code",
   "execution_count": 12,
   "metadata": {},
   "outputs": [],
   "source": [
    "import random\n",
    "random.shuffle(Normal_pairs)"
   ]
  },
  {
   "cell_type": "code",
   "execution_count": 37,
   "metadata": {},
   "outputs": [],
   "source": [
    "Training_set = Normal_pairs[:int(len(img_set)*0.5)]\n",
    "Test_set = Normal_pairs[int(len(img_set)*0.5)+1:int(len(img_set))]"
   ]
  },
  {
   "cell_type": "code",
   "execution_count": 38,
   "metadata": {},
   "outputs": [
    {
     "data": {
      "text/plain": [
       "5997"
      ]
     },
     "execution_count": 38,
     "metadata": {},
     "output_type": "execute_result"
    }
   ],
   "source": [
    "len(Training_set)"
   ]
  },
  {
   "cell_type": "code",
   "execution_count": 39,
   "metadata": {},
   "outputs": [
    {
     "data": {
      "text/plain": [
       "5996"
      ]
     },
     "execution_count": 39,
     "metadata": {},
     "output_type": "execute_result"
    }
   ],
   "source": [
    "len(Test_set)"
   ]
  },
  {
   "cell_type": "code",
   "execution_count": 70,
   "metadata": {},
   "outputs": [],
   "source": [
    "Weight = np.random.rand(1024)\n",
    "Bias = 0"
   ]
  },
  {
   "cell_type": "code",
   "execution_count": 41,
   "metadata": {},
   "outputs": [
    {
     "data": {
      "text/plain": [
       "array([0.75566354, 0.9962233 , 0.31920416, ..., 0.24209666, 0.49076008,\n",
       "       0.01137817])"
      ]
     },
     "execution_count": 41,
     "metadata": {},
     "output_type": "execute_result"
    }
   ],
   "source": [
    "Weight"
   ]
  },
  {
   "cell_type": "code",
   "execution_count": 42,
   "metadata": {},
   "outputs": [
    {
     "data": {
      "text/plain": [
       "array([  8,  16,  24, ..., 107, 108, 138], dtype=uint8)"
      ]
     },
     "execution_count": 42,
     "metadata": {},
     "output_type": "execute_result"
    }
   ],
   "source": [
    "Training_set[0][0]"
   ]
  },
  {
   "cell_type": "code",
   "execution_count": 43,
   "metadata": {},
   "outputs": [],
   "source": [
    "Training_label = [Training_set[i][1] for i in range(len(Training_set))]\n",
    "Training_data = [Training_set[i][0] for i in range(len(Training_set))]"
   ]
  },
  {
   "cell_type": "code",
   "execution_count": 44,
   "metadata": {},
   "outputs": [],
   "source": [
    "Training_data = np.array(Training_data)\n",
    "Training_label = np.array(Training_label)"
   ]
  },
  {
   "cell_type": "code",
   "execution_count": 45,
   "metadata": {},
   "outputs": [],
   "source": [
    "Test_label = np.array([Test_set[i][1] for i in range(len(Test_set))])\n",
    "Test_data = np.array([Test_set[i][0] for i in range(len(Test_set))])"
   ]
  },
  {
   "cell_type": "code",
   "execution_count": 46,
   "metadata": {},
   "outputs": [],
   "source": [
    "Weight = Training_label[21]*Training_data[21]+Weight"
   ]
  },
  {
   "cell_type": "code",
   "execution_count": 47,
   "metadata": {},
   "outputs": [
    {
     "data": {
      "text/plain": [
       "array([38.75566354, 48.9962233 , 38.31920416, ..., 43.24209666,\n",
       "       47.49076008, 38.01137817])"
      ]
     },
     "execution_count": 47,
     "metadata": {},
     "output_type": "execute_result"
    }
   ],
   "source": [
    "Weight"
   ]
  },
  {
   "cell_type": "code",
   "execution_count": 73,
   "metadata": {},
   "outputs": [],
   "source": [
    "size = 5996"
   ]
  },
  {
   "cell_type": "code",
   "execution_count": 49,
   "metadata": {},
   "outputs": [],
   "source": [
    "def training_SGD(input_data, label, size, learning_rate = 1.0, train_num = 1000):\n",
    "    global Weight, Bias\n",
    "    x = input_data\n",
    "    y = label\n",
    "    for round in range(train_num):\n",
    "        for i in range(size):\n",
    "            prediction = np.sign(np.dot(x[i],Weight)+Bias)\n",
    "            if y[i] * prediction <= 0:\n",
    "                Weight = Weight + learning_rate * y[i] * x[i]\n",
    "                Bias = Bias + learning_rate * y[i]\n",
    "        if round % 10 == 0:\n",
    "            learning_rate *= 0.9\n",
    "            accuracy = compute_accuracy(x, y, size, Weight, Bias)\n",
    "            print('the round of', round, 'accuracy', accuracy)\n",
    "            print('Weight:', Weight, 'Bias:', Bias)\n",
    "            \n",
    "def compute_accuracy(x, y, size, Weight, Bias):\n",
    "    \n",
    "    prediction = np.sign(np.dot(x, Weight)+Bias)\n",
    "    count = 0\n",
    "    for i in range(size):\n",
    "        if (prediction[i] > 0):\n",
    "            count = count + 1\n",
    "    return (count+0.0)/size"
   ]
  },
  {
   "cell_type": "code",
   "execution_count": 50,
   "metadata": {},
   "outputs": [
    {
     "name": "stdout",
     "output_type": "stream",
     "text": [
      "the round of 0 accuracy 0.0045030020013342225\n",
      "Weight: [-119.24433646 -113.0037767  -128.68079584 ...   43.24209666   36.49076008\n",
      "   31.01137817] Bias: -1.0\n",
      "the round of 10 accuracy 0.9729819879919946\n",
      "Weight: [ 274.95566354 -245.3037767  -377.08079584 ...  990.94209666  992.29076008\n",
      " 1190.21137817] Bias: 2.6\n",
      "the round of 20 accuracy 0.9839893262174784\n",
      "Weight: [ 888.12566354  343.5662233   239.32920416 ... 1598.44209666 1551.19076008\n",
      " 1915.97137817] Bias: 3.4100000000000006\n",
      "the round of 30 accuracy 0.9994996664442962\n",
      "Weight: [ 963.21266354  426.6722233   326.80920416 ... 1581.67509666 1524.21776008\n",
      " 1885.35337817] Bias: 4.139000000000001\n",
      "the round of 40 accuracy 0.9994996664442962\n",
      "Weight: [ 963.21266354  426.6722233   326.80920416 ... 1581.67509666 1524.21776008\n",
      " 1885.35337817] Bias: 4.139000000000001\n",
      "the round of 50 accuracy 0.9994996664442962\n",
      "Weight: [ 963.21266354  426.6722233   326.80920416 ... 1581.67509666 1524.21776008\n",
      " 1885.35337817] Bias: 4.139000000000001\n",
      "the round of 60 accuracy 0.9994996664442962\n",
      "Weight: [ 963.21266354  426.6722233   326.80920416 ... 1581.67509666 1524.21776008\n",
      " 1885.35337817] Bias: 4.139000000000001\n",
      "the round of 70 accuracy 0.9994996664442962\n",
      "Weight: [ 963.21266354  426.6722233   326.80920416 ... 1581.67509666 1524.21776008\n",
      " 1885.35337817] Bias: 4.139000000000001\n",
      "the round of 80 accuracy 0.9994996664442962\n",
      "Weight: [ 963.21266354  426.6722233   326.80920416 ... 1581.67509666 1524.21776008\n",
      " 1885.35337817] Bias: 4.139000000000001\n",
      "the round of 90 accuracy 0.9994996664442962\n",
      "Weight: [ 963.21266354  426.6722233   326.80920416 ... 1581.67509666 1524.21776008\n",
      " 1885.35337817] Bias: 4.139000000000001\n",
      "the round of 100 accuracy 0.9994996664442962\n",
      "Weight: [ 963.21266354  426.6722233   326.80920416 ... 1581.67509666 1524.21776008\n",
      " 1885.35337817] Bias: 4.139000000000001\n",
      "the round of 110 accuracy 0.9994996664442962\n",
      "Weight: [ 963.21266354  426.6722233   326.80920416 ... 1581.67509666 1524.21776008\n",
      " 1885.35337817] Bias: 4.139000000000001\n",
      "the round of 120 accuracy 0.9994996664442962\n",
      "Weight: [ 963.21266354  426.6722233   326.80920416 ... 1581.67509666 1524.21776008\n",
      " 1885.35337817] Bias: 4.139000000000001\n",
      "the round of 130 accuracy 0.9994996664442962\n",
      "Weight: [ 963.21266354  426.6722233   326.80920416 ... 1581.67509666 1524.21776008\n",
      " 1885.35337817] Bias: 4.139000000000001\n",
      "the round of 140 accuracy 0.9994996664442962\n",
      "Weight: [ 963.21266354  426.6722233   326.80920416 ... 1581.67509666 1524.21776008\n",
      " 1885.35337817] Bias: 4.139000000000001\n",
      "the round of 150 accuracy 0.9994996664442962\n",
      "Weight: [ 963.21266354  426.6722233   326.80920416 ... 1581.67509666 1524.21776008\n",
      " 1885.35337817] Bias: 4.139000000000001\n",
      "the round of 160 accuracy 0.9994996664442962\n",
      "Weight: [ 963.21266354  426.6722233   326.80920416 ... 1581.67509666 1524.21776008\n",
      " 1885.35337817] Bias: 4.139000000000001\n",
      "the round of 170 accuracy 0.9994996664442962\n",
      "Weight: [ 963.21266354  426.6722233   326.80920416 ... 1581.67509666 1524.21776008\n",
      " 1885.35337817] Bias: 4.139000000000001\n",
      "the round of 180 accuracy 0.9994996664442962\n",
      "Weight: [ 963.21266354  426.6722233   326.80920416 ... 1581.67509666 1524.21776008\n",
      " 1885.35337817] Bias: 4.139000000000001\n",
      "the round of 190 accuracy 0.9994996664442962\n",
      "Weight: [ 963.21266354  426.6722233   326.80920416 ... 1581.67509666 1524.21776008\n",
      " 1885.35337817] Bias: 4.139000000000001\n",
      "the round of 200 accuracy 0.9994996664442962\n",
      "Weight: [ 963.21266354  426.6722233   326.80920416 ... 1581.67509666 1524.21776008\n",
      " 1885.35337817] Bias: 4.139000000000001\n",
      "the round of 210 accuracy 0.9994996664442962\n",
      "Weight: [ 963.21266354  426.6722233   326.80920416 ... 1581.67509666 1524.21776008\n",
      " 1885.35337817] Bias: 4.139000000000001\n",
      "the round of 220 accuracy 0.9994996664442962\n",
      "Weight: [ 963.21266354  426.6722233   326.80920416 ... 1581.67509666 1524.21776008\n",
      " 1885.35337817] Bias: 4.139000000000001\n",
      "the round of 230 accuracy 0.9994996664442962\n",
      "Weight: [ 963.21266354  426.6722233   326.80920416 ... 1581.67509666 1524.21776008\n",
      " 1885.35337817] Bias: 4.139000000000001\n",
      "the round of 240 accuracy 0.9994996664442962\n",
      "Weight: [ 963.21266354  426.6722233   326.80920416 ... 1581.67509666 1524.21776008\n",
      " 1885.35337817] Bias: 4.139000000000001\n",
      "the round of 250 accuracy 0.9994996664442962\n",
      "Weight: [ 963.21266354  426.6722233   326.80920416 ... 1581.67509666 1524.21776008\n",
      " 1885.35337817] Bias: 4.139000000000001\n",
      "the round of 260 accuracy 0.9994996664442962\n",
      "Weight: [ 963.21266354  426.6722233   326.80920416 ... 1581.67509666 1524.21776008\n",
      " 1885.35337817] Bias: 4.139000000000001\n",
      "the round of 270 accuracy 0.9994996664442962\n",
      "Weight: [ 963.21266354  426.6722233   326.80920416 ... 1581.67509666 1524.21776008\n",
      " 1885.35337817] Bias: 4.139000000000001\n",
      "the round of 280 accuracy 0.9994996664442962\n",
      "Weight: [ 963.21266354  426.6722233   326.80920416 ... 1581.67509666 1524.21776008\n",
      " 1885.35337817] Bias: 4.139000000000001\n",
      "the round of 290 accuracy 0.9994996664442962\n",
      "Weight: [ 963.21266354  426.6722233   326.80920416 ... 1581.67509666 1524.21776008\n",
      " 1885.35337817] Bias: 4.139000000000001\n",
      "the round of 300 accuracy 0.9994996664442962\n",
      "Weight: [ 963.21266354  426.6722233   326.80920416 ... 1581.67509666 1524.21776008\n",
      " 1885.35337817] Bias: 4.139000000000001\n",
      "the round of 310 accuracy 0.9994996664442962\n",
      "Weight: [ 963.21266354  426.6722233   326.80920416 ... 1581.67509666 1524.21776008\n",
      " 1885.35337817] Bias: 4.139000000000001\n",
      "the round of 320 accuracy 0.9994996664442962\n",
      "Weight: [ 963.21266354  426.6722233   326.80920416 ... 1581.67509666 1524.21776008\n",
      " 1885.35337817] Bias: 4.139000000000001\n",
      "the round of 330 accuracy 0.9994996664442962\n",
      "Weight: [ 963.21266354  426.6722233   326.80920416 ... 1581.67509666 1524.21776008\n",
      " 1885.35337817] Bias: 4.139000000000001\n",
      "the round of 340 accuracy 0.9994996664442962\n",
      "Weight: [ 963.21266354  426.6722233   326.80920416 ... 1581.67509666 1524.21776008\n",
      " 1885.35337817] Bias: 4.139000000000001\n",
      "the round of 350 accuracy 0.9994996664442962\n",
      "Weight: [ 963.21266354  426.6722233   326.80920416 ... 1581.67509666 1524.21776008\n",
      " 1885.35337817] Bias: 4.139000000000001\n",
      "the round of 360 accuracy 0.9994996664442962\n",
      "Weight: [ 963.21266354  426.6722233   326.80920416 ... 1581.67509666 1524.21776008\n",
      " 1885.35337817] Bias: 4.139000000000001\n",
      "the round of 370 accuracy 0.9994996664442962\n",
      "Weight: [ 963.21266354  426.6722233   326.80920416 ... 1581.67509666 1524.21776008\n",
      " 1885.35337817] Bias: 4.139000000000001\n",
      "the round of 380 accuracy 0.9994996664442962\n",
      "Weight: [ 963.21266354  426.6722233   326.80920416 ... 1581.67509666 1524.21776008\n",
      " 1885.35337817] Bias: 4.139000000000001\n",
      "the round of 390 accuracy 0.9994996664442962\n",
      "Weight: [ 963.21266354  426.6722233   326.80920416 ... 1581.67509666 1524.21776008\n",
      " 1885.35337817] Bias: 4.139000000000001\n",
      "the round of 400 accuracy 0.9994996664442962\n",
      "Weight: [ 963.21266354  426.6722233   326.80920416 ... 1581.67509666 1524.21776008\n",
      " 1885.35337817] Bias: 4.139000000000001\n",
      "the round of 410 accuracy 0.9994996664442962\n",
      "Weight: [ 963.21266354  426.6722233   326.80920416 ... 1581.67509666 1524.21776008\n",
      " 1885.35337817] Bias: 4.139000000000001\n",
      "the round of 420 accuracy 0.9994996664442962\n",
      "Weight: [ 963.21266354  426.6722233   326.80920416 ... 1581.67509666 1524.21776008\n",
      " 1885.35337817] Bias: 4.139000000000001\n",
      "the round of 430 accuracy 0.9994996664442962\n",
      "Weight: [ 963.21266354  426.6722233   326.80920416 ... 1581.67509666 1524.21776008\n",
      " 1885.35337817] Bias: 4.139000000000001\n",
      "the round of 440 accuracy 0.9994996664442962\n",
      "Weight: [ 963.21266354  426.6722233   326.80920416 ... 1581.67509666 1524.21776008\n",
      " 1885.35337817] Bias: 4.139000000000001\n",
      "the round of 450 accuracy 0.9994996664442962\n",
      "Weight: [ 963.21266354  426.6722233   326.80920416 ... 1581.67509666 1524.21776008\n",
      " 1885.35337817] Bias: 4.139000000000001\n",
      "the round of 460 accuracy 0.9994996664442962\n",
      "Weight: [ 963.21266354  426.6722233   326.80920416 ... 1581.67509666 1524.21776008\n",
      " 1885.35337817] Bias: 4.139000000000001\n",
      "the round of 470 accuracy 0.9994996664442962\n",
      "Weight: [ 963.21266354  426.6722233   326.80920416 ... 1581.67509666 1524.21776008\n",
      " 1885.35337817] Bias: 4.139000000000001\n",
      "the round of 480 accuracy 0.9994996664442962\n",
      "Weight: [ 963.21266354  426.6722233   326.80920416 ... 1581.67509666 1524.21776008\n",
      " 1885.35337817] Bias: 4.139000000000001\n"
     ]
    },
    {
     "name": "stdout",
     "output_type": "stream",
     "text": [
      "the round of 490 accuracy 0.9994996664442962\n",
      "Weight: [ 963.21266354  426.6722233   326.80920416 ... 1581.67509666 1524.21776008\n",
      " 1885.35337817] Bias: 4.139000000000001\n",
      "the round of 500 accuracy 0.9994996664442962\n",
      "Weight: [ 963.21266354  426.6722233   326.80920416 ... 1581.67509666 1524.21776008\n",
      " 1885.35337817] Bias: 4.139000000000001\n",
      "the round of 510 accuracy 0.9994996664442962\n",
      "Weight: [ 963.21266354  426.6722233   326.80920416 ... 1581.67509666 1524.21776008\n",
      " 1885.35337817] Bias: 4.139000000000001\n",
      "the round of 520 accuracy 0.9994996664442962\n",
      "Weight: [ 963.21266354  426.6722233   326.80920416 ... 1581.67509666 1524.21776008\n",
      " 1885.35337817] Bias: 4.139000000000001\n",
      "the round of 530 accuracy 0.9994996664442962\n",
      "Weight: [ 963.21266354  426.6722233   326.80920416 ... 1581.67509666 1524.21776008\n",
      " 1885.35337817] Bias: 4.139000000000001\n",
      "the round of 540 accuracy 0.9994996664442962\n",
      "Weight: [ 963.21266354  426.6722233   326.80920416 ... 1581.67509666 1524.21776008\n",
      " 1885.35337817] Bias: 4.139000000000001\n",
      "the round of 550 accuracy 0.9994996664442962\n",
      "Weight: [ 963.21266354  426.6722233   326.80920416 ... 1581.67509666 1524.21776008\n",
      " 1885.35337817] Bias: 4.139000000000001\n",
      "the round of 560 accuracy 0.9994996664442962\n",
      "Weight: [ 963.21266354  426.6722233   326.80920416 ... 1581.67509666 1524.21776008\n",
      " 1885.35337817] Bias: 4.139000000000001\n",
      "the round of 570 accuracy 0.9994996664442962\n",
      "Weight: [ 963.21266354  426.6722233   326.80920416 ... 1581.67509666 1524.21776008\n",
      " 1885.35337817] Bias: 4.139000000000001\n",
      "the round of 580 accuracy 0.9994996664442962\n",
      "Weight: [ 963.21266354  426.6722233   326.80920416 ... 1581.67509666 1524.21776008\n",
      " 1885.35337817] Bias: 4.139000000000001\n",
      "the round of 590 accuracy 0.9994996664442962\n",
      "Weight: [ 963.21266354  426.6722233   326.80920416 ... 1581.67509666 1524.21776008\n",
      " 1885.35337817] Bias: 4.139000000000001\n",
      "the round of 600 accuracy 0.9994996664442962\n",
      "Weight: [ 963.21266354  426.6722233   326.80920416 ... 1581.67509666 1524.21776008\n",
      " 1885.35337817] Bias: 4.139000000000001\n",
      "the round of 610 accuracy 0.9994996664442962\n",
      "Weight: [ 963.21266354  426.6722233   326.80920416 ... 1581.67509666 1524.21776008\n",
      " 1885.35337817] Bias: 4.139000000000001\n",
      "the round of 620 accuracy 0.9994996664442962\n",
      "Weight: [ 963.21266354  426.6722233   326.80920416 ... 1581.67509666 1524.21776008\n",
      " 1885.35337817] Bias: 4.139000000000001\n",
      "the round of 630 accuracy 0.9994996664442962\n",
      "Weight: [ 963.21266354  426.6722233   326.80920416 ... 1581.67509666 1524.21776008\n",
      " 1885.35337817] Bias: 4.139000000000001\n",
      "the round of 640 accuracy 0.9994996664442962\n",
      "Weight: [ 963.21266354  426.6722233   326.80920416 ... 1581.67509666 1524.21776008\n",
      " 1885.35337817] Bias: 4.139000000000001\n",
      "the round of 650 accuracy 0.9994996664442962\n",
      "Weight: [ 963.21266354  426.6722233   326.80920416 ... 1581.67509666 1524.21776008\n",
      " 1885.35337817] Bias: 4.139000000000001\n",
      "the round of 660 accuracy 0.9994996664442962\n",
      "Weight: [ 963.21266354  426.6722233   326.80920416 ... 1581.67509666 1524.21776008\n",
      " 1885.35337817] Bias: 4.139000000000001\n",
      "the round of 670 accuracy 0.9994996664442962\n",
      "Weight: [ 963.21266354  426.6722233   326.80920416 ... 1581.67509666 1524.21776008\n",
      " 1885.35337817] Bias: 4.139000000000001\n",
      "the round of 680 accuracy 0.9994996664442962\n",
      "Weight: [ 963.21266354  426.6722233   326.80920416 ... 1581.67509666 1524.21776008\n",
      " 1885.35337817] Bias: 4.139000000000001\n",
      "the round of 690 accuracy 0.9994996664442962\n",
      "Weight: [ 963.21266354  426.6722233   326.80920416 ... 1581.67509666 1524.21776008\n",
      " 1885.35337817] Bias: 4.139000000000001\n",
      "the round of 700 accuracy 0.9994996664442962\n",
      "Weight: [ 963.21266354  426.6722233   326.80920416 ... 1581.67509666 1524.21776008\n",
      " 1885.35337817] Bias: 4.139000000000001\n",
      "the round of 710 accuracy 0.9994996664442962\n",
      "Weight: [ 963.21266354  426.6722233   326.80920416 ... 1581.67509666 1524.21776008\n",
      " 1885.35337817] Bias: 4.139000000000001\n",
      "the round of 720 accuracy 0.9994996664442962\n",
      "Weight: [ 963.21266354  426.6722233   326.80920416 ... 1581.67509666 1524.21776008\n",
      " 1885.35337817] Bias: 4.139000000000001\n",
      "the round of 730 accuracy 0.9994996664442962\n",
      "Weight: [ 963.21266354  426.6722233   326.80920416 ... 1581.67509666 1524.21776008\n",
      " 1885.35337817] Bias: 4.139000000000001\n",
      "the round of 740 accuracy 0.9994996664442962\n",
      "Weight: [ 963.21266354  426.6722233   326.80920416 ... 1581.67509666 1524.21776008\n",
      " 1885.35337817] Bias: 4.139000000000001\n",
      "the round of 750 accuracy 0.9994996664442962\n",
      "Weight: [ 963.21266354  426.6722233   326.80920416 ... 1581.67509666 1524.21776008\n",
      " 1885.35337817] Bias: 4.139000000000001\n",
      "the round of 760 accuracy 0.9994996664442962\n",
      "Weight: [ 963.21266354  426.6722233   326.80920416 ... 1581.67509666 1524.21776008\n",
      " 1885.35337817] Bias: 4.139000000000001\n",
      "the round of 770 accuracy 0.9994996664442962\n",
      "Weight: [ 963.21266354  426.6722233   326.80920416 ... 1581.67509666 1524.21776008\n",
      " 1885.35337817] Bias: 4.139000000000001\n",
      "the round of 780 accuracy 0.9994996664442962\n",
      "Weight: [ 963.21266354  426.6722233   326.80920416 ... 1581.67509666 1524.21776008\n",
      " 1885.35337817] Bias: 4.139000000000001\n",
      "the round of 790 accuracy 0.9994996664442962\n",
      "Weight: [ 963.21266354  426.6722233   326.80920416 ... 1581.67509666 1524.21776008\n",
      " 1885.35337817] Bias: 4.139000000000001\n",
      "the round of 800 accuracy 0.9994996664442962\n",
      "Weight: [ 963.21266354  426.6722233   326.80920416 ... 1581.67509666 1524.21776008\n",
      " 1885.35337817] Bias: 4.139000000000001\n",
      "the round of 810 accuracy 0.9994996664442962\n",
      "Weight: [ 963.21266354  426.6722233   326.80920416 ... 1581.67509666 1524.21776008\n",
      " 1885.35337817] Bias: 4.139000000000001\n",
      "the round of 820 accuracy 0.9994996664442962\n",
      "Weight: [ 963.21266354  426.6722233   326.80920416 ... 1581.67509666 1524.21776008\n",
      " 1885.35337817] Bias: 4.139000000000001\n",
      "the round of 830 accuracy 0.9994996664442962\n",
      "Weight: [ 963.21266354  426.6722233   326.80920416 ... 1581.67509666 1524.21776008\n",
      " 1885.35337817] Bias: 4.139000000000001\n",
      "the round of 840 accuracy 0.9994996664442962\n",
      "Weight: [ 963.21266354  426.6722233   326.80920416 ... 1581.67509666 1524.21776008\n",
      " 1885.35337817] Bias: 4.139000000000001\n",
      "the round of 850 accuracy 0.9994996664442962\n",
      "Weight: [ 963.21266354  426.6722233   326.80920416 ... 1581.67509666 1524.21776008\n",
      " 1885.35337817] Bias: 4.139000000000001\n",
      "the round of 860 accuracy 0.9994996664442962\n",
      "Weight: [ 963.21266354  426.6722233   326.80920416 ... 1581.67509666 1524.21776008\n",
      " 1885.35337817] Bias: 4.139000000000001\n",
      "the round of 870 accuracy 0.9994996664442962\n",
      "Weight: [ 963.21266354  426.6722233   326.80920416 ... 1581.67509666 1524.21776008\n",
      " 1885.35337817] Bias: 4.139000000000001\n",
      "the round of 880 accuracy 0.9994996664442962\n",
      "Weight: [ 963.21266354  426.6722233   326.80920416 ... 1581.67509666 1524.21776008\n",
      " 1885.35337817] Bias: 4.139000000000001\n",
      "the round of 890 accuracy 0.9994996664442962\n",
      "Weight: [ 963.21266354  426.6722233   326.80920416 ... 1581.67509666 1524.21776008\n",
      " 1885.35337817] Bias: 4.139000000000001\n",
      "the round of 900 accuracy 0.9994996664442962\n",
      "Weight: [ 963.21266354  426.6722233   326.80920416 ... 1581.67509666 1524.21776008\n",
      " 1885.35337817] Bias: 4.139000000000001\n",
      "the round of 910 accuracy 0.9994996664442962\n",
      "Weight: [ 963.21266354  426.6722233   326.80920416 ... 1581.67509666 1524.21776008\n",
      " 1885.35337817] Bias: 4.139000000000001\n",
      "the round of 920 accuracy 0.9994996664442962\n",
      "Weight: [ 963.21266354  426.6722233   326.80920416 ... 1581.67509666 1524.21776008\n",
      " 1885.35337817] Bias: 4.139000000000001\n",
      "the round of 930 accuracy 0.9994996664442962\n",
      "Weight: [ 963.21266354  426.6722233   326.80920416 ... 1581.67509666 1524.21776008\n",
      " 1885.35337817] Bias: 4.139000000000001\n",
      "the round of 940 accuracy 0.9994996664442962\n",
      "Weight: [ 963.21266354  426.6722233   326.80920416 ... 1581.67509666 1524.21776008\n",
      " 1885.35337817] Bias: 4.139000000000001\n",
      "the round of 950 accuracy 0.9994996664442962\n",
      "Weight: [ 963.21266354  426.6722233   326.80920416 ... 1581.67509666 1524.21776008\n",
      " 1885.35337817] Bias: 4.139000000000001\n",
      "the round of 960 accuracy 0.9994996664442962\n",
      "Weight: [ 963.21266354  426.6722233   326.80920416 ... 1581.67509666 1524.21776008\n",
      " 1885.35337817] Bias: 4.139000000000001\n",
      "the round of 970 accuracy 0.9994996664442962\n",
      "Weight: [ 963.21266354  426.6722233   326.80920416 ... 1581.67509666 1524.21776008\n",
      " 1885.35337817] Bias: 4.139000000000001\n"
     ]
    },
    {
     "name": "stdout",
     "output_type": "stream",
     "text": [
      "the round of 980 accuracy 0.9994996664442962\n",
      "Weight: [ 963.21266354  426.6722233   326.80920416 ... 1581.67509666 1524.21776008\n",
      " 1885.35337817] Bias: 4.139000000000001\n",
      "the round of 990 accuracy 0.9994996664442962\n",
      "Weight: [ 963.21266354  426.6722233   326.80920416 ... 1581.67509666 1524.21776008\n",
      " 1885.35337817] Bias: 4.139000000000001\n"
     ]
    }
   ],
   "source": [
    "training_SGD(Training_data, Training_label, size, learning_rate = 1.0, train_num = 1000)"
   ]
  },
  {
   "cell_type": "code",
   "execution_count": 51,
   "metadata": {},
   "outputs": [],
   "source": [
    "def show_training(index):\n",
    "    img = Training_data[index].reshape(32,32)\n",
    "    plt.imshow(img,cmap = 'gray')\n",
    "    print(Training_label[index])"
   ]
  },
  {
   "cell_type": "code",
   "execution_count": 52,
   "metadata": {},
   "outputs": [
    {
     "name": "stdout",
     "output_type": "stream",
     "text": [
      "1.0\n"
     ]
    },
    {
     "data": {
      "image/png": "[encoded data removed]",
      "text/plain": [
       "<Figure size 432x288 with 1 Axes>"
      ]
     },
     "metadata": {
      "needs_background": "light"
     },
     "output_type": "display_data"
    }
   ],
   "source": [
    "show_training(21)"
   ]
  },
  {
   "cell_type": "code",
   "execution_count": 53,
   "metadata": {},
   "outputs": [
    {
     "data": {
      "text/plain": [
       "0.9804869913275517"
      ]
     },
     "execution_count": 53,
     "metadata": {},
     "output_type": "execute_result"
    }
   ],
   "source": [
    "compute_accuracy(Test_data, Test_label, size, Weight, Bias)"
   ]
  },
  {
   "cell_type": "code",
   "execution_count": 54,
   "metadata": {},
   "outputs": [],
   "source": [
    "def leastSquareMulti(x,y,n):\n",
    "    X = [np.sum(x**i) for i in range(2*n+1)]\n",
    "    Y = np.array([[np.sum(y*x**i)] for i in range(n+1)])\n",
    "    S = np.array([X[i:i+n+1] for i in range(n+1)])\n",
    "    return np.linalg.solve(S,Y)"
   ]
  },
  {
   "cell_type": "code",
   "execution_count": 57,
   "metadata": {},
   "outputs": [
    {
     "ename": "ValueError",
     "evalue": "operands could not be broadcast together with shapes (5997,) (5997,1024) ",
     "output_type": "error",
     "traceback": [
      "\u001b[0;31m---------------------------------------------------------------------------\u001b[0m",
      "\u001b[0;31mValueError\u001b[0m                                Traceback (most recent call last)",
      "\u001b[0;32m<ipython-input-57-2d8541c8e933>\u001b[0m in \u001b[0;36m<module>\u001b[0;34m\u001b[0m\n\u001b[0;32m----> 1\u001b[0;31m \u001b[0mresult\u001b[0m \u001b[0;34m=\u001b[0m \u001b[0mleastSquareMulti\u001b[0m\u001b[0;34m(\u001b[0m\u001b[0mTraining_data\u001b[0m\u001b[0;34m,\u001b[0m \u001b[0mTraining_label\u001b[0m\u001b[0;34m,\u001b[0m \u001b[0;36m1024\u001b[0m\u001b[0;34m)\u001b[0m\u001b[0;34m\u001b[0m\u001b[0;34m\u001b[0m\u001b[0m\n\u001b[0m",
      "\u001b[0;32m<ipython-input-54-79374dba3365>\u001b[0m in \u001b[0;36mleastSquareMulti\u001b[0;34m(x, y, n)\u001b[0m\n\u001b[1;32m      1\u001b[0m \u001b[0;32mdef\u001b[0m \u001b[0mleastSquareMulti\u001b[0m\u001b[0;34m(\u001b[0m\u001b[0mx\u001b[0m\u001b[0;34m,\u001b[0m\u001b[0my\u001b[0m\u001b[0;34m,\u001b[0m\u001b[0mn\u001b[0m\u001b[0;34m)\u001b[0m\u001b[0;34m:\u001b[0m\u001b[0;34m\u001b[0m\u001b[0;34m\u001b[0m\u001b[0m\n\u001b[1;32m      2\u001b[0m     \u001b[0mX\u001b[0m \u001b[0;34m=\u001b[0m \u001b[0;34m[\u001b[0m\u001b[0mnp\u001b[0m\u001b[0;34m.\u001b[0m\u001b[0msum\u001b[0m\u001b[0;34m(\u001b[0m\u001b[0mx\u001b[0m\u001b[0;34m**\u001b[0m\u001b[0mi\u001b[0m\u001b[0;34m)\u001b[0m \u001b[0;32mfor\u001b[0m \u001b[0mi\u001b[0m \u001b[0;32min\u001b[0m \u001b[0mrange\u001b[0m\u001b[0;34m(\u001b[0m\u001b[0;36m2\u001b[0m\u001b[0;34m*\u001b[0m\u001b[0mn\u001b[0m\u001b[0;34m+\u001b[0m\u001b[0;36m1\u001b[0m\u001b[0;34m)\u001b[0m\u001b[0;34m]\u001b[0m\u001b[0;34m\u001b[0m\u001b[0;34m\u001b[0m\u001b[0m\n\u001b[0;32m----> 3\u001b[0;31m     \u001b[0mY\u001b[0m \u001b[0;34m=\u001b[0m \u001b[0mnp\u001b[0m\u001b[0;34m.\u001b[0m\u001b[0marray\u001b[0m\u001b[0;34m(\u001b[0m\u001b[0;34m[\u001b[0m\u001b[0;34m[\u001b[0m\u001b[0mnp\u001b[0m\u001b[0;34m.\u001b[0m\u001b[0msum\u001b[0m\u001b[0;34m(\u001b[0m\u001b[0my\u001b[0m\u001b[0;34m*\u001b[0m\u001b[0mx\u001b[0m\u001b[0;34m**\u001b[0m\u001b[0mi\u001b[0m\u001b[0;34m)\u001b[0m\u001b[0;34m]\u001b[0m \u001b[0;32mfor\u001b[0m \u001b[0mi\u001b[0m \u001b[0;32min\u001b[0m \u001b[0mrange\u001b[0m\u001b[0;34m(\u001b[0m\u001b[0mn\u001b[0m\u001b[0;34m+\u001b[0m\u001b[0;36m1\u001b[0m\u001b[0;34m)\u001b[0m\u001b[0;34m]\u001b[0m\u001b[0;34m)\u001b[0m\u001b[0;34m\u001b[0m\u001b[0;34m\u001b[0m\u001b[0m\n\u001b[0m\u001b[1;32m      4\u001b[0m     \u001b[0mS\u001b[0m \u001b[0;34m=\u001b[0m \u001b[0mnp\u001b[0m\u001b[0;34m.\u001b[0m\u001b[0marray\u001b[0m\u001b[0;34m(\u001b[0m\u001b[0;34m[\u001b[0m\u001b[0mX\u001b[0m\u001b[0;34m[\u001b[0m\u001b[0mi\u001b[0m\u001b[0;34m:\u001b[0m\u001b[0mi\u001b[0m\u001b[0;34m+\u001b[0m\u001b[0mn\u001b[0m\u001b[0;34m+\u001b[0m\u001b[0;36m1\u001b[0m\u001b[0;34m]\u001b[0m \u001b[0;32mfor\u001b[0m \u001b[0mi\u001b[0m \u001b[0;32min\u001b[0m \u001b[0mrange\u001b[0m\u001b[0;34m(\u001b[0m\u001b[0mn\u001b[0m\u001b[0;34m+\u001b[0m\u001b[0;36m1\u001b[0m\u001b[0;34m)\u001b[0m\u001b[0;34m]\u001b[0m\u001b[0;34m)\u001b[0m\u001b[0;34m\u001b[0m\u001b[0;34m\u001b[0m\u001b[0m\n\u001b[1;32m      5\u001b[0m     \u001b[0;32mreturn\u001b[0m \u001b[0mnp\u001b[0m\u001b[0;34m.\u001b[0m\u001b[0mlinalg\u001b[0m\u001b[0;34m.\u001b[0m\u001b[0msolve\u001b[0m\u001b[0;34m(\u001b[0m\u001b[0mS\u001b[0m\u001b[0;34m,\u001b[0m\u001b[0mY\u001b[0m\u001b[0;34m)\u001b[0m\u001b[0;34m\u001b[0m\u001b[0;34m\u001b[0m\u001b[0m\n",
      "\u001b[0;32m<ipython-input-54-79374dba3365>\u001b[0m in \u001b[0;36m<listcomp>\u001b[0;34m(.0)\u001b[0m\n\u001b[1;32m      1\u001b[0m \u001b[0;32mdef\u001b[0m \u001b[0mleastSquareMulti\u001b[0m\u001b[0;34m(\u001b[0m\u001b[0mx\u001b[0m\u001b[0;34m,\u001b[0m\u001b[0my\u001b[0m\u001b[0;34m,\u001b[0m\u001b[0mn\u001b[0m\u001b[0;34m)\u001b[0m\u001b[0;34m:\u001b[0m\u001b[0;34m\u001b[0m\u001b[0;34m\u001b[0m\u001b[0m\n\u001b[1;32m      2\u001b[0m     \u001b[0mX\u001b[0m \u001b[0;34m=\u001b[0m \u001b[0;34m[\u001b[0m\u001b[0mnp\u001b[0m\u001b[0;34m.\u001b[0m\u001b[0msum\u001b[0m\u001b[0;34m(\u001b[0m\u001b[0mx\u001b[0m\u001b[0;34m**\u001b[0m\u001b[0mi\u001b[0m\u001b[0;34m)\u001b[0m \u001b[0;32mfor\u001b[0m \u001b[0mi\u001b[0m \u001b[0;32min\u001b[0m \u001b[0mrange\u001b[0m\u001b[0;34m(\u001b[0m\u001b[0;36m2\u001b[0m\u001b[0;34m*\u001b[0m\u001b[0mn\u001b[0m\u001b[0;34m+\u001b[0m\u001b[0;36m1\u001b[0m\u001b[0;34m)\u001b[0m\u001b[0;34m]\u001b[0m\u001b[0;34m\u001b[0m\u001b[0;34m\u001b[0m\u001b[0m\n\u001b[0;32m----> 3\u001b[0;31m     \u001b[0mY\u001b[0m \u001b[0;34m=\u001b[0m \u001b[0mnp\u001b[0m\u001b[0;34m.\u001b[0m\u001b[0marray\u001b[0m\u001b[0;34m(\u001b[0m\u001b[0;34m[\u001b[0m\u001b[0;34m[\u001b[0m\u001b[0mnp\u001b[0m\u001b[0;34m.\u001b[0m\u001b[0msum\u001b[0m\u001b[0;34m(\u001b[0m\u001b[0my\u001b[0m\u001b[0;34m*\u001b[0m\u001b[0mx\u001b[0m\u001b[0;34m**\u001b[0m\u001b[0mi\u001b[0m\u001b[0;34m)\u001b[0m\u001b[0;34m]\u001b[0m \u001b[0;32mfor\u001b[0m \u001b[0mi\u001b[0m \u001b[0;32min\u001b[0m \u001b[0mrange\u001b[0m\u001b[0;34m(\u001b[0m\u001b[0mn\u001b[0m\u001b[0;34m+\u001b[0m\u001b[0;36m1\u001b[0m\u001b[0;34m)\u001b[0m\u001b[0;34m]\u001b[0m\u001b[0;34m)\u001b[0m\u001b[0;34m\u001b[0m\u001b[0;34m\u001b[0m\u001b[0m\n\u001b[0m\u001b[1;32m      4\u001b[0m     \u001b[0mS\u001b[0m \u001b[0;34m=\u001b[0m \u001b[0mnp\u001b[0m\u001b[0;34m.\u001b[0m\u001b[0marray\u001b[0m\u001b[0;34m(\u001b[0m\u001b[0;34m[\u001b[0m\u001b[0mX\u001b[0m\u001b[0;34m[\u001b[0m\u001b[0mi\u001b[0m\u001b[0;34m:\u001b[0m\u001b[0mi\u001b[0m\u001b[0;34m+\u001b[0m\u001b[0mn\u001b[0m\u001b[0;34m+\u001b[0m\u001b[0;36m1\u001b[0m\u001b[0;34m]\u001b[0m \u001b[0;32mfor\u001b[0m \u001b[0mi\u001b[0m \u001b[0;32min\u001b[0m \u001b[0mrange\u001b[0m\u001b[0;34m(\u001b[0m\u001b[0mn\u001b[0m\u001b[0;34m+\u001b[0m\u001b[0;36m1\u001b[0m\u001b[0;34m)\u001b[0m\u001b[0;34m]\u001b[0m\u001b[0;34m)\u001b[0m\u001b[0;34m\u001b[0m\u001b[0;34m\u001b[0m\u001b[0m\n\u001b[1;32m      5\u001b[0m     \u001b[0;32mreturn\u001b[0m \u001b[0mnp\u001b[0m\u001b[0;34m.\u001b[0m\u001b[0mlinalg\u001b[0m\u001b[0;34m.\u001b[0m\u001b[0msolve\u001b[0m\u001b[0;34m(\u001b[0m\u001b[0mS\u001b[0m\u001b[0;34m,\u001b[0m\u001b[0mY\u001b[0m\u001b[0;34m)\u001b[0m\u001b[0;34m\u001b[0m\u001b[0;34m\u001b[0m\u001b[0m\n",
      "\u001b[0;31mValueError\u001b[0m: operands could not be broadcast together with shapes (5997,) (5997,1024) "
     ]
    }
   ],
   "source": [
    "result = leastSquareMulti(Training_data, Training_label, 1024)"
   ]
  },
  {
   "cell_type": "code",
   "execution_count": 55,
   "metadata": {},
   "outputs": [
    {
     "data": {
      "text/plain": [
       "array([1., 1., 1., 1., 1., 1., 1., 1., 1., 1., 1., 1., 1., 1., 1., 1., 1.,\n",
       "       1., 1., 1., 1., 1., 1., 1., 1., 1., 1., 1., 1., 1., 1., 1., 1., 1.,\n",
       "       1., 1., 1., 1., 1., 1., 1., 1., 1., 1., 1., 1., 1., 1., 1., 1., 1.,\n",
       "       1., 1., 1., 1., 1., 1., 1., 1., 1., 1., 1., 1., 1., 1., 1., 1., 1.,\n",
       "       1., 1., 1., 1., 1., 1., 1., 1., 1., 1., 1., 1., 1., 1., 1., 1., 1.,\n",
       "       1., 1., 1., 1., 1., 1., 1., 1., 1., 1., 1., 1., 1., 1., 1., 1., 1.,\n",
       "       1., 1., 1., 1., 1., 1., 1., 1., 1., 1., 1., 1., 1., 1., 1., 1., 1.,\n",
       "       1., 1., 1., 1., 1., 1., 1., 1., 1., 1., 1., 1., 1., 1., 1., 1., 1.,\n",
       "       1., 1., 1., 1., 1., 1., 1., 1., 1., 1., 1., 1., 1., 1., 1., 1., 1.,\n",
       "       1., 1., 1., 1., 1., 1., 1., 1., 1., 1., 1., 1., 1., 1., 1., 1., 1.,\n",
       "       1., 1., 1., 1., 1., 1., 1., 1., 1., 1., 1., 1., 1., 1., 1., 1., 1.,\n",
       "       1., 1., 1., 1., 1., 1., 1., 1., 1., 1., 1., 1., 1., 1., 1., 1., 1.,\n",
       "       1., 1., 1., 1., 1., 1., 1., 1., 1., 1., 1., 1., 1., 1., 1., 1., 1.,\n",
       "       1., 1., 1., 1., 1., 1., 1., 1., 1., 1., 1., 1., 1., 1., 1., 1., 1.,\n",
       "       1., 1., 1., 1., 1., 1., 1., 1., 1., 1., 1., 1., 1., 1., 1., 1., 1.,\n",
       "       1., 1., 1., 1., 1., 1., 1., 1., 1., 1., 1., 1., 1., 1., 1., 1., 1.,\n",
       "       1., 1., 1., 1., 1., 1., 1., 1., 1., 1., 1., 1., 1., 1., 1., 1., 1.,\n",
       "       1., 1., 1., 1., 1., 1., 1., 1., 1., 1., 1., 1., 1., 1., 1., 1., 1.,\n",
       "       1., 1., 1., 1., 1., 1., 1., 1., 1., 1., 1., 1., 1., 1., 1., 1., 1.,\n",
       "       1., 1., 1., 1., 1., 1., 1., 1., 1., 1., 1., 1., 1., 1., 1., 1., 1.,\n",
       "       1., 1., 1., 1., 1., 1., 1., 1., 1., 1., 1., 1., 1., 1., 1., 1., 1.,\n",
       "       1., 1., 1., 1., 1., 1., 1., 1., 1., 1., 1., 1., 1., 1., 1., 1., 1.,\n",
       "       1., 1., 1., 1., 1., 1., 1., 1., 1., 1., 1., 1., 1., 1., 1., 1., 1.,\n",
       "       1., 1., 1., 1., 1., 1., 1., 1., 1., 1., 1., 1., 1., 1., 1., 1., 1.,\n",
       "       1., 1., 1., 1., 1., 1., 1., 1., 1., 1., 1., 1., 1., 1., 1., 1., 1.,\n",
       "       1., 1., 1., 1., 1., 1., 1., 1., 1., 1., 1., 1., 1., 1., 1., 1., 1.,\n",
       "       1., 1., 1., 1., 1., 1., 1., 1., 1., 1., 1., 1., 1., 1., 1., 1., 1.,\n",
       "       1., 1., 1., 1., 1., 1., 1., 1., 1., 1., 1., 1., 1., 1., 1., 1., 1.,\n",
       "       1., 1., 1., 1., 1., 1., 1., 1., 1., 1., 1., 1., 1., 1., 1., 1., 1.,\n",
       "       1., 1., 1., 1., 1., 1., 1., 1., 1., 1., 1., 1., 1., 1., 1., 1., 1.,\n",
       "       1., 1., 1., 1., 1., 1., 1., 1., 1., 1., 1., 1., 1., 1., 1., 1., 1.,\n",
       "       1., 1., 1., 1., 1., 1., 1., 1., 1., 1., 1., 1., 1., 1., 1., 1., 1.,\n",
       "       1., 1., 1., 1., 1., 1., 1., 1., 1., 1., 1., 1., 1., 1., 1., 1., 1.,\n",
       "       1., 1., 1., 1., 1., 1., 1., 1., 1., 1., 1., 1., 1., 1., 1., 1., 1.,\n",
       "       1., 1., 1., 1., 1., 1., 1., 1., 1., 1., 1., 1., 1., 1., 1., 1., 1.,\n",
       "       1., 1., 1., 1., 1., 1., 1., 1., 1., 1., 1., 1., 1., 1., 1., 1., 1.,\n",
       "       1., 1., 1., 1., 1., 1., 1., 1., 1., 1., 1., 1., 1., 1., 1., 1., 1.,\n",
       "       1., 1., 1., 1., 1., 1., 1., 1., 1., 1., 1., 1., 1., 1., 1., 1., 1.,\n",
       "       1., 1., 1., 1., 1., 1., 1., 1., 1., 1., 1., 1., 1., 1., 1., 1., 1.,\n",
       "       1., 1., 1., 1., 1., 1., 1., 1., 1., 1., 1., 1., 1., 1., 1., 1., 1.,\n",
       "       1., 1., 1., 1., 1., 1., 1., 1., 1., 1., 1., 1., 1., 1., 1., 1., 1.,\n",
       "       1., 1., 1., 1., 1., 1., 1., 1., 1., 1., 1., 1., 1., 1., 1., 1., 1.,\n",
       "       1., 1., 1., 1., 1., 1., 1., 1., 1., 1., 1., 1., 1., 1., 1., 1., 1.,\n",
       "       1., 1., 1., 1., 1., 1., 1., 1., 1., 1., 1., 1., 1., 1., 1., 1., 1.,\n",
       "       1., 1., 1., 1., 1., 1., 1., 1., 1., 1., 1., 1., 1., 1., 1., 1., 1.,\n",
       "       1., 1., 1., 1., 1., 1., 1., 1., 1., 1., 1., 1., 1., 1., 1., 1., 1.,\n",
       "       1., 1., 1., 1., 1., 1., 1., 1., 1., 1., 1., 1., 1., 1., 1., 1., 1.,\n",
       "       1., 1., 1., 1., 1., 1., 1., 1., 1., 1., 1., 1., 1., 1., 1., 1., 1.,\n",
       "       1., 1., 1., 1., 1., 1., 1., 1., 1., 1., 1., 1., 1., 1., 1., 1., 1.,\n",
       "       1., 1., 1., 1., 1., 1., 1., 1., 1., 1., 1., 1., 1., 1., 1., 1., 1.,\n",
       "       1., 1., 1., 1., 1., 1., 1., 1., 1., 1., 1., 1., 1., 1., 1., 1., 1.,\n",
       "       1., 1., 1., 1., 1., 1., 1., 1., 1., 1., 1., 1., 1., 1., 1., 1., 1.,\n",
       "       1., 1., 1., 1., 1., 1., 1., 1., 1., 1., 1., 1., 1., 1., 1., 1., 1.,\n",
       "       1., 1., 1., 1., 1., 1., 1., 1., 1., 1., 1., 1., 1., 1., 1., 1., 1.,\n",
       "       1., 1., 1., 1., 1., 1., 1., 1., 1., 1., 1., 1., 1., 1., 1., 1., 1.,\n",
       "       1., 1., 1., 1., 1., 1., 1., 1., 1., 1., 1., 1., 1., 1., 1., 1., 1.,\n",
       "       1., 1., 1., 1., 1., 1., 1., 1., 1., 1., 1., 1., 1., 1., 1., 1., 1.,\n",
       "       1., 1., 1., 1., 1., 1., 1., 1., 1., 1., 1., 1., 1., 1., 1., 1., 1.,\n",
       "       1., 1., 1., 1., 1., 1., 1., 1., 1., 1., 1., 1., 1., 1.])"
      ]
     },
     "execution_count": 55,
     "metadata": {},
     "output_type": "execute_result"
    }
   ],
   "source": [
    "Training_label[:1000]"
   ]
  },
  {
   "cell_type": "code",
   "execution_count": 68,
   "metadata": {},
   "outputs": [],
   "source": [
    "def adaline(input_data, label, size, learning_rate = 0.01, train_num = 1000):\n",
    "    global Weight, Bias\n",
    "    x = input_data\n",
    "    y = label\n",
    "    for round in range(train_num):\n",
    "        errors = np.zeros(size)\n",
    "        for i in range(size):\n",
    "            prediction = np.sign(np.dot(x[i],Weight)+Bias)\n",
    "            if y[i] * prediction <= 0:\n",
    "                errors[i]= y[i]-prediction\n",
    "                \n",
    "        Weight = Weight + learning_rate * x.T.dot(errors)\n",
    "        Bias = Bias + learning_rate * errors.sum()\n",
    "        \n",
    "        if round % 10 == 0:\n",
    "            learning_rate *= 0.9\n",
    "            accuracy = compute_accuracy(x, y, size, Weight, Bias)\n",
    "            print('the round of', round, 'accuracy', accuracy)\n",
    "            print('Weight:', Weight, 'Bias:', Bias) "
   ]
  },
  {
   "cell_type": "code",
   "execution_count": 71,
   "metadata": {},
   "outputs": [
    {
     "name": "stdout",
     "output_type": "stream",
     "text": [
      "the round of 0 accuracy 0.0\n",
      "Weight: [-841.97918754 -839.40917811 -855.42291236 ... -351.92653504 -409.50574906\n",
      " -389.93931964] Bias: -8.0\n",
      "the round of 10 accuracy 1.0\n",
      "Weight: [1311039.42081246 1294726.79082189 1268202.17708764 ... 1090505.67346496\n",
      " 1112226.29425094 1142930.46068036] Bias: 10714.599999999993\n",
      "the round of 20 accuracy 1.0\n",
      "Weight: [1304219.22081246 1287922.79082189 1261268.57708764 ... 1087654.47346496\n",
      " 1108905.29425094 1139771.46068037] Bias: 10649.799999999997\n",
      "the round of 30 accuracy 1.0\n",
      "Weight: [1298081.04081246 1281799.19082189 1255028.33708764 ... 1085088.39346496\n",
      " 1105916.39425094 1136928.36068037] Bias: 10591.479999999994\n",
      "the round of 40 accuracy 1.0\n",
      "Weight: [1292556.67881246 1276287.95082189 1249412.12108764 ... 1082778.92146496\n",
      " 1103226.38425094 1134369.57068037] Bias: 10538.992\n",
      "the round of 50 accuracy 1.0\n",
      "Weight: [1287584.75301246 1271327.83482189 1244357.52668764 ... 1080700.39666496\n",
      " 1100805.37525094 1132066.65968037] Bias: 10491.752799999997\n",
      "the round of 60 accuracy 1.0\n",
      "Weight: [1283110.01979246 1266863.73042189 1239808.39172764 ... 1078829.72434496\n",
      " 1098626.46715094 1129994.03978036] Bias: 10449.23751999999\n",
      "the round of 70 accuracy 1.0\n",
      "Weight: [1279082.75989446 1262846.03646189 1235714.17026364 ... 1077146.11925696\n",
      " 1096665.44986094 1128128.68187037] Bias: 10410.973767999987\n",
      "the round of 80 accuracy 1.0\n",
      "Weight: [1275458.22598626 1259230.11189789 1232029.37094604 ... 1075630.87467776\n",
      " 1094900.53429994 1126449.85975137] Bias: 10376.53639119999\n",
      "the round of 90 accuracy 1.0\n",
      "Weight: [1272196.14546888 1255975.77979029 1228713.0515602  ... 1074267.15455648\n",
      " 1093312.11029504 1124938.91984426] Bias: 10345.542752079984\n"
     ]
    }
   ],
   "source": [
    "adaline(Training_data, Training_label, size, learning_rate = 1.0, train_num = 100)"
   ]
  },
  {
   "cell_type": "code",
   "execution_count": 61,
   "metadata": {},
   "outputs": [
    {
     "data": {
      "text/plain": [
       "(5997, 1024)"
      ]
     },
     "execution_count": 61,
     "metadata": {},
     "output_type": "execute_result"
    }
   ],
   "source": [
    "Training_data.shape"
   ]
  },
  {
   "cell_type": "code",
   "execution_count": 74,
   "metadata": {},
   "outputs": [
    {
     "data": {
      "text/plain": [
       "1.0"
      ]
     },
     "execution_count": 74,
     "metadata": {},
     "output_type": "execute_result"
    }
   ],
   "source": [
    "compute_accuracy(Test_data, Test_label, size, Weight, Bias)"
   ]
  },
  {
   "cell_type": "code",
   "execution_count": 75,
   "metadata": {},
   "outputs": [
    {
     "data": {
      "text/plain": [
       "array([1269553.8602498 , 1253339.77078313, 1226026.83285767, ...,\n",
       "       1073162.54125824, 1092025.48685107, 1123715.05851951])"
      ]
     },
     "execution_count": 75,
     "metadata": {},
     "output_type": "execute_result"
    }
   ],
   "source": []
  },
  {
   "cell_type": "code",
   "execution_count": null,
   "metadata": {},
   "outputs": [],
   "source": []
  }
 ],
 "metadata": {
  "kernelspec": {
   "display_name": "Python 3",
   "language": "python",
   "name": "python3"
  },
  "language_info": {
   "codemirror_mode": {
    "name": "ipython",
    "version": 3
   },
   "file_extension": ".py",
   "mimetype": "text/x-python",
   "name": "python",
   "nbconvert_exporter": "python",
   "pygments_lexer": "ipython3",
   "version": "3.7.7"
  }
 },
 "nbformat": 4,
 "nbformat_minor": 4
}
